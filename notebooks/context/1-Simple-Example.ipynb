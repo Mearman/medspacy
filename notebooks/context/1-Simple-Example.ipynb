{
 "cells": [
  {
   "cell_type": "code",
   "execution_count": 1,
   "metadata": {},
   "outputs": [],
   "source": [
    "import sys\n",
    "sys.path.insert(0, \"../..\")"
   ]
  },
  {
   "cell_type": "code",
   "execution_count": 2,
   "metadata": {},
   "outputs": [],
   "source": [
    "import spacy\n",
    "import medspacy\n",
    "\n",
    "from medspacy.context import ConText, ConTextRule"
   ]
  },
  {
   "cell_type": "markdown",
   "metadata": {},
   "source": [
    "# Clinical Text and Contextual Analysis\n",
    "\n",
    "Clinical text often contains mentions of concepts which the patient did not actually experience. For example:\n",
    "\n",
    "- \"There is *no evidence of* **pneumonia**\"\n",
    "- \"*Mother* with **breast cancer**\"\n",
    "- \"Patient presents for *r/o* **COVID-19**\"\n",
    "\n",
    "In all of these instances, we need to use the contextual clues around the entity to assert attributes like negation, experiencer, and uncertainty.\n",
    "\n",
    "One method for this is the [ConText algorithm](https://www.sciencedirect.com/science/article/pii/S1532046409000744). ConText links target entities like problems with semantic modifiers like those shown above. The medSpaCy implementation of ConText is found in `medspacy.context`.\n",
    "\n",
    "This notebook will show a quick example of how to use ConText in medspaCy. Subsequent notebooks will provide additional details and explain more complex functionality.."
   ]
  },
  {
   "cell_type": "markdown",
   "metadata": {},
   "source": [
    "# Using ConText\n",
    "You can instantiate ConText in two ways:\n",
    "- With the `medspacy.load()` function, which loads a full pipeline\n",
    "- Directly instantiating `ConTextComponent` and adding it to an existing pipeline"
   ]
  },
  {
   "cell_type": "markdown",
   "metadata": {},
   "source": [
    "### Option 1"
   ]
  },
  {
   "cell_type": "code",
   "execution_count": 3,
   "metadata": {},
   "outputs": [],
   "source": [
    "nlp = medspacy.load(medspacy_enable=[\"medspacy_pyrush\", \"medspacy_context\"])"
   ]
  },
  {
   "cell_type": "code",
   "execution_count": 4,
   "metadata": {},
   "outputs": [
    {
     "data": {
      "text/plain": [
       "['medspacy_pyrush', 'medspacy_context']"
      ]
     },
     "execution_count": 4,
     "metadata": {},
     "output_type": "execute_result"
    }
   ],
   "source": [
    "nlp.pipe_names"
   ]
  },
  {
   "cell_type": "code",
   "execution_count": 5,
   "metadata": {},
   "outputs": [],
   "source": [
    "context = nlp.get_pipe(\"medspacy_context\")"
   ]
  },
  {
   "cell_type": "code",
   "execution_count": 6,
   "metadata": {},
   "outputs": [
    {
     "data": {
      "text/plain": [
       "<medspacy.context.context.ConText at 0x23488615700>"
      ]
     },
     "execution_count": 6,
     "metadata": {},
     "output_type": "execute_result"
    }
   ],
   "source": [
    "context"
   ]
  },
  {
   "cell_type": "markdown",
   "metadata": {},
   "source": [
    "### Option 2"
   ]
  },
  {
   "cell_type": "code",
   "execution_count": 7,
   "metadata": {},
   "outputs": [],
   "source": [
    "nlp = spacy.load(\"en_core_web_sm\", disable=[\"ner\"])"
   ]
  },
  {
   "cell_type": "code",
   "execution_count": 8,
   "metadata": {},
   "outputs": [
    {
     "data": {
      "text/plain": [
       "<medspacy.context.context.ConText at 0x23489090790>"
      ]
     },
     "execution_count": 8,
     "metadata": {},
     "output_type": "execute_result"
    }
   ],
   "source": [
    "nlp.add_pipe(\"medspacy_context\")"
   ]
  },
  {
   "cell_type": "code",
   "execution_count": 9,
   "metadata": {},
   "outputs": [
    {
     "data": {
      "text/plain": [
       "['tok2vec',\n",
       " 'tagger',\n",
       " 'parser',\n",
       " 'attribute_ruler',\n",
       " 'lemmatizer',\n",
       " 'medspacy_context']"
      ]
     },
     "execution_count": 9,
     "metadata": {},
     "output_type": "execute_result"
    }
   ],
   "source": [
    "nlp.pipe_names"
   ]
  },
  {
   "cell_type": "markdown",
   "metadata": {},
   "source": [
    "## Processing a doc with ConText\n",
    "Let's start with a blank pipeline and show how this processing sequence works."
   ]
  },
  {
   "cell_type": "code",
   "execution_count": 10,
   "metadata": {},
   "outputs": [],
   "source": [
    "nlp = medspacy.load(enable=[\"medspacy_pyrush\"])"
   ]
  },
  {
   "cell_type": "code",
   "execution_count": 11,
   "metadata": {},
   "outputs": [],
   "source": [
    "text = \"There is no evidence of pneumonia.\""
   ]
  },
  {
   "cell_type": "code",
   "execution_count": 12,
   "metadata": {},
   "outputs": [],
   "source": [
    "doc = nlp(text)"
   ]
  },
  {
   "cell_type": "markdown",
   "metadata": {},
   "source": [
    "Target concepts should be stored as document spans in the attribute `Doc.ents`. This will usually be extracted using a trained NER model or rule-based component. For now, we'll manually define this span."
   ]
  },
  {
   "cell_type": "code",
   "execution_count": 13,
   "metadata": {},
   "outputs": [],
   "source": [
    "from spacy.tokens import Span"
   ]
  },
  {
   "cell_type": "code",
   "execution_count": 14,
   "metadata": {},
   "outputs": [],
   "source": [
    "doc.ents = (Span(doc, 5, 6, label=\"EVIDENCE_OF_PNEUMONIA\"),)"
   ]
  },
  {
   "cell_type": "code",
   "execution_count": 15,
   "metadata": {},
   "outputs": [
    {
     "data": {
      "text/plain": [
       "(pneumonia,)"
      ]
     },
     "execution_count": 15,
     "metadata": {},
     "output_type": "execute_result"
    }
   ],
   "source": [
    "doc.ents"
   ]
  },
  {
   "cell_type": "markdown",
   "metadata": {},
   "source": [
    "# Instantiating ConText\n",
    "We use context through the `ConText` object. ConText offers both out-of-the-box default functionality, as well as ways to customize and curate the algorithm. We'll start by using all of the default rules, which can be loaded by passing **\"default\"** to the `rules` argument:"
   ]
  },
  {
   "cell_type": "code",
   "execution_count": 16,
   "metadata": {},
   "outputs": [
    {
     "name": "stdout",
     "output_type": "stream",
     "text": [
      "Help on class ConText in module medspacy.context.context:\n",
      "\n",
      "class ConText(builtins.object)\n",
      " |  ConText(nlp: spacy.language.Language, name: str = 'medspacy_context', rules: Union[str, NoneType] = 'default', phrase_matcher_attr: str = 'LOWER', allowed_types: Union[Set[str], NoneType] = None, excluded_types: Union[Set[str], NoneType] = None, terminating_types: Union[Dict[str, Iterable[str]], NoneType] = None, max_scope: Union[int, NoneType] = None, max_targets: Union[int, NoneType] = None, prune_on_modifier_overlap: bool = True, prune_on_target_overlap: bool = False, span_attrs: Union[Literal['default'], Dict[str, Dict[str, Any]], NoneType] = 'default', input_span_type: Literal['ents', 'group'] = 'ents', span_group_name: str = 'medspacy_spans')\n",
      " |  \n",
      " |  The ConText for spaCy processing.\n",
      " |  \n",
      " |  This component matches modifiers in a Doc, defines their scope, and identifies edges between targets and modifiers.\n",
      " |  Sets two spaCy extensions:\n",
      " |          - Span._.modifiers: a list of ConTextModifier objects which modify a target Span\n",
      " |          - Doc._.context_graph: a ConText graph object which contains the targets,\n",
      " |              modifiers, and edges between them.\n",
      " |  \n",
      " |  Methods defined here:\n",
      " |  \n",
      " |  __call__(self, doc, targets: str = None) -> spacy.tokens.doc.Doc\n",
      " |      Applies the ConText algorithm to a Doc.\n",
      " |      \n",
      " |      Args:\n",
      " |          doc: The spaCy Doc to process.\n",
      " |          targets: The optional custom attribute extension on doc to run over. Must contain an iterable of Span objects\n",
      " |      \n",
      " |      Returns:\n",
      " |          The processed spaCy Doc.\n",
      " |  \n",
      " |  __init__(self, nlp: spacy.language.Language, name: str = 'medspacy_context', rules: Union[str, NoneType] = 'default', phrase_matcher_attr: str = 'LOWER', allowed_types: Union[Set[str], NoneType] = None, excluded_types: Union[Set[str], NoneType] = None, terminating_types: Union[Dict[str, Iterable[str]], NoneType] = None, max_scope: Union[int, NoneType] = None, max_targets: Union[int, NoneType] = None, prune_on_modifier_overlap: bool = True, prune_on_target_overlap: bool = False, span_attrs: Union[Literal['default'], Dict[str, Dict[str, Any]], NoneType] = 'default', input_span_type: Literal['ents', 'group'] = 'ents', span_group_name: str = 'medspacy_spans')\n",
      " |      Creates a new ConText object.\n",
      " |      \n",
      " |      Args:\n",
      " |          nlp: A SpaCy Language object.\n",
      " |          name: The name of the component.\n",
      " |          rules: The rules to load. Default is \"default\", loads rules packaged with medspaCy that are derived from\n",
      " |              original ConText rules and years of practical applications at the US Department of Veterans Affairs.  If\n",
      " |              None, no rules are loaded. Otherwise, must be a path to a json file containing rules. Add ConTextRules\n",
      " |              directly through `ConText.add`.\n",
      " |          phrase_matcher_attr: The token attribute to use for PhraseMatcher for rules where `pattern` is None. Default\n",
      " |              is 'LOWER'.\n",
      " |          allowed_types: A global list of types included by context. Rules will operate on only spans with these\n",
      " |              labels.\n",
      " |          excluded_types: A global list of types excluded by context. Rules will not operate on spans with these\n",
      " |              labels.\n",
      " |          terminating_types: A global map of types to the types that can terminate them. This can be used to apply\n",
      " |              terminations to all rules of a particular type rather than adding to every rule individually in the\n",
      " |              ContextRule object.\n",
      " |          max_scope: The number of tokens around a modifier in a target can be modified. Default value is None,\n",
      " |              Context will use the sentence boundaries. If a value greater than zero, applies the window globally.\n",
      " |              Both options will be overridden by a more specific value in a ContextRule.\n",
      " |          max_targets: The maximum number of targets a modifier can modify. Default value is None, context will modify\n",
      " |              all targets in its scope. If a value greater than zero, applies this value globally. Both options will\n",
      " |              be overridden by a more specific value in a ContextRule.\n",
      " |          prune_on_modifier_overlap: Whether to prune modifiers which are substrings of another modifier. If True,\n",
      " |              will drop substrings completely. For example, if \"no history of\"  and \"history of\" are both\n",
      " |              ConTextRules,both will match the text \"no history of afib\", but only \"no  history of\" should modify\n",
      " |              afib. Default True.\n",
      " |          prune_on_target_overlap: Whether to remove any matched modifiers which overlap with target entities. If\n",
      " |              False, any overlapping modifiers will not modify the overlapping entity but will still modify any other\n",
      " |              targets in its scope. Default False.\n",
      " |          span_attrs: The optional span attributes to modify. Default option \"default\" uses attributes in\n",
      " |              `DEFAULT_ATTRIBUTES`. If a dictionary, format is mapping context modifier categories to a dictionary\n",
      " |              containing the attribute name and the value to set the attribute to when a  span is modified by a\n",
      " |              modifier of that category. If None, no attributes will be modified.\n",
      " |          input_span_type: \"ents\" or \"group\". Where to look for targets. \"ents\" will modify attributes of spans\n",
      " |              in doc.ents. \"group\" will modify attributes of spans in the span group specified by `span_group_name`.\n",
      " |          span_group_name: The name of the span group used when `input_span_type` is \"group\". Default is\n",
      " |              \"medspacy_spans\".\n",
      " |  \n",
      " |  add(self, rules)\n",
      " |      Adds ConTextRules to Context.\n",
      " |      \n",
      " |      Args:\n",
      " |          rules: A single ConTextRule or a collection of ConTextRules to add to the Sectionizer.\n",
      " |  \n",
      " |  set_context_attributes(self, edges)\n",
      " |      Adds Span-level attributes to targets with modifiers.\n",
      " |      \n",
      " |      Args:\n",
      " |          edges: The edges of the ContextGraph to modify.\n",
      " |  \n",
      " |  ----------------------------------------------------------------------\n",
      " |  Class methods defined here:\n",
      " |  \n",
      " |  register_default_attributes() from builtins.type\n",
      " |      Registers the default values for the Span attributes defined in `DEFAULT_ATTRIBUTES`.\n",
      " |  \n",
      " |  register_graph_attributes() from builtins.type\n",
      " |      Registers spaCy attribute extensions: Span._.modifiers and Doc._.context_graph.\n",
      " |  \n",
      " |  ----------------------------------------------------------------------\n",
      " |  Readonly properties defined here:\n",
      " |  \n",
      " |  categories\n",
      " |      Returns list of categories available that Context might produce.\n",
      " |  \n",
      " |  rules\n",
      " |      Returns list of ConTextRules available to context.\n",
      " |  \n",
      " |  ----------------------------------------------------------------------\n",
      " |  Data descriptors defined here:\n",
      " |  \n",
      " |  __dict__\n",
      " |      dictionary for instance variables (if defined)\n",
      " |  \n",
      " |  __weakref__\n",
      " |      list of weak references to the object (if defined)\n",
      " |  \n",
      " |  input_span_type\n",
      " |      The input source of entities for the component. Must be either \"ents\" corresponding to doc.ents or \"group\" for\n",
      " |      a spaCy span group.\n",
      " |      \n",
      " |      Returns:\n",
      " |          The input type, \"ents\" or \"group\".\n",
      " |  \n",
      " |  span_group_name\n",
      " |      The name of the span group used by this component. If `input_type` is \"group\", calling this component will\n",
      " |      use spans in the span group with this name.\n",
      " |      \n",
      " |      Returns:\n",
      " |          The span group name.\n",
      "\n"
     ]
    }
   ],
   "source": [
    "help(ConText)"
   ]
  },
  {
   "cell_type": "markdown",
   "metadata": {},
   "source": [
    "# Applying ConText\n",
    "Once we've added the ConTextItems, we call the ConTextComponent object directly on a Doc. Usually this will be done under the hood when you call `nlp(text)` or `nlp.pipe(texts)`."
   ]
  },
  {
   "cell_type": "code",
   "execution_count": 17,
   "metadata": {},
   "outputs": [
    {
     "data": {
      "text/plain": [
       "There is no evidence of pneumonia."
      ]
     },
     "execution_count": 17,
     "metadata": {},
     "output_type": "execute_result"
    }
   ],
   "source": [
    "context(doc)"
   ]
  },
  {
   "cell_type": "markdown",
   "metadata": {},
   "source": [
    "This adds the following attributes:\n",
    "- `Doc._.context_graph`: An object containing the targets, modifiers, and relationships between them\n",
    "- `Span._.modifiers`: A tuple added to each span which will contain the modifiers which modify each target entity\n",
    "- Additional ConText attributes (optional)"
   ]
  },
  {
   "cell_type": "markdown",
   "metadata": {},
   "source": [
    "## ConTextGraph\n",
    "This object contains the main findings of the ConText algorithm. It handles applying the modifiers to the sentences, defining their scopes, and identifying target concepts which they modify."
   ]
  },
  {
   "cell_type": "code",
   "execution_count": 18,
   "metadata": {},
   "outputs": [
    {
     "data": {
      "text/plain": [
       "<ConTextGraph> with 1 targets and 1 modifiers"
      ]
     },
     "execution_count": 18,
     "metadata": {},
     "output_type": "execute_result"
    }
   ],
   "source": [
    "doc._.context_graph"
   ]
  },
  {
   "cell_type": "markdown",
   "metadata": {},
   "source": [
    "### Modifiers\n",
    "The `modifiers` attribute is a list of `ConTextModifier` objects, which are the result of a ConTextRule matching a span of text in `doc`. In this example, \"no evidence of\" and has a category of \"DEFINITE_NEGATED_EXISTENCE\", as defined by `context_item`."
   ]
  },
  {
   "cell_type": "code",
   "execution_count": 19,
   "metadata": {},
   "outputs": [
    {
     "data": {
      "text/plain": [
       "[<ConTextModifier> [2, 5, NEGATED_EXISTENCE]]"
      ]
     },
     "execution_count": 19,
     "metadata": {},
     "output_type": "execute_result"
    }
   ],
   "source": [
    "doc._.context_graph.modifiers"
   ]
  },
  {
   "cell_type": "markdown",
   "metadata": {},
   "source": [
    "The `scope` object contains the span of text which is modified by the ConTextModifier:"
   ]
  },
  {
   "cell_type": "code",
   "execution_count": 20,
   "metadata": {},
   "outputs": [
    {
     "data": {
      "text/plain": [
       "(5, 7)"
      ]
     },
     "execution_count": 20,
     "metadata": {},
     "output_type": "execute_result"
    }
   ],
   "source": [
    "modifier = doc._.context_graph.modifiers[0]\n",
    "modifier.scope_span"
   ]
  },
  {
   "cell_type": "markdown",
   "metadata": {},
   "source": [
    "### Targets\n",
    "The `targets` attribute contains the list of entities in `doc.ents`:"
   ]
  },
  {
   "cell_type": "code",
   "execution_count": 21,
   "metadata": {},
   "outputs": [
    {
     "data": {
      "text/plain": [
       "(pneumonia,)"
      ]
     },
     "execution_count": 21,
     "metadata": {},
     "output_type": "execute_result"
    }
   ],
   "source": [
    "doc._.context_graph.targets"
   ]
  },
  {
   "cell_type": "markdown",
   "metadata": {},
   "source": [
    "### Edges\n",
    "This is the primary role of the ConText algorithm. Once modifiers and targets have been identified, any targets within the scope of a modifier are said to be **modified by** that modifier. In this example, this gives us the contextual semantic information that this entity is negated."
   ]
  },
  {
   "cell_type": "code",
   "execution_count": 22,
   "metadata": {},
   "outputs": [
    {
     "name": "stdout",
     "output_type": "stream",
     "text": [
      "[pneumonia] is modified by [<ConTextModifier> [2, 5, NEGATED_EXISTENCE]]\n"
     ]
    }
   ],
   "source": [
    "for target, modifier in doc._.context_graph.edges:\n",
    "    print(\"[{0}] is modified by [{1}]\".format(target, modifier))"
   ]
  },
  {
   "cell_type": "markdown",
   "metadata": {},
   "source": [
    "## Span._.modifiers\n",
    "These relationships are also stored as a list in the `target._.modifiers` attribute. This allows us to identify all modifiers for a target entity:"
   ]
  },
  {
   "cell_type": "code",
   "execution_count": 23,
   "metadata": {},
   "outputs": [
    {
     "name": "stdout",
     "output_type": "stream",
     "text": [
      "pneumonia is modified by [(<ConTextModifier> [2, 5, NEGATED_EXISTENCE],)]\n"
     ]
    }
   ],
   "source": [
    "for ent in doc.ents:\n",
    "    print(\"{0} is modified by [{1}]\".format(ent, ent._.modifiers))"
   ]
  },
  {
   "cell_type": "markdown",
   "metadata": {},
   "source": [
    "# Additional Span attributes\n",
    "In addition to storing the results in the ConTextGraph, ConText also sets several additional span-level attributes which contain the contextual information for that target.\n",
    "\n",
    "- `is_negated`: True if a target is modified by 'NEGATED_EXISTENCE', default False\n",
    "- `is_uncertain`: True if a target is modified by 'POSSIBLE_EXISTENCE', default False\n",
    "- `is_historical`: True if a target is modified by 'HISTORICAL', default False\n",
    "- `is_hypothetical`: True if a target is modified by 'HYPOTHETICAL', default False\n",
    "- `is_family`: True if a target is modified by 'FAMILY', default False"
   ]
  },
  {
   "cell_type": "code",
   "execution_count": 24,
   "metadata": {},
   "outputs": [],
   "source": [
    "from spacy.tokens.span import Span"
   ]
  },
  {
   "cell_type": "code",
   "execution_count": 25,
   "metadata": {},
   "outputs": [
    {
     "name": "stdout",
     "output_type": "stream",
     "text": [
      "pneumonia\n",
      "is_negated:  True\n",
      "is_uncertain:  False\n",
      "is_historical:  False\n",
      "is_hypothetical:  False\n",
      "is_family:  False\n"
     ]
    }
   ],
   "source": [
    "for ent in doc.ents:\n",
    "    print(ent)\n",
    "    print(\"is_negated: \", ent._.is_negated)\n",
    "    print(\"is_uncertain: \", ent._.is_uncertain)\n",
    "    print(\"is_historical: \", ent._.is_historical)\n",
    "    print(\"is_hypothetical: \", ent._.is_hypothetical)\n",
    "    print(\"is_family: \", ent._.is_family)\n",
    "    "
   ]
  },
  {
   "cell_type": "markdown",
   "metadata": {},
   "source": [
    "These attributes can be left out by setting `set_attrs` to `False` when initializing the `ConTextComponent`."
   ]
  },
  {
   "cell_type": "markdown",
   "metadata": {},
   "source": [
    "# Visualization\n",
    "When building or explaining a clinical NLP system, it can be especially helpful to view visual representations of the entities and modifiers. We can use [spaCy's displacy](https://spacy.io/usage/visualizers) to display this information.\n",
    "\n",
    "[Medspacy](https://github.com/medspacy/medspacy) has a wrapper for displacy in the `visualization` module. The `visualize_ent` function displays targets and modifiers in a document in an NER-style form, highlighting the clinical entities and modifiers in a Doc:"
   ]
  },
  {
   "cell_type": "code",
   "execution_count": 26,
   "metadata": {},
   "outputs": [],
   "source": [
    "from medspacy.visualization import visualize_dep, visualize_ent"
   ]
  },
  {
   "cell_type": "code",
   "execution_count": 27,
   "metadata": {},
   "outputs": [
    {
     "data": {
      "text/html": [
       "<span class=\"tex2jax_ignore\"><div class=\"entities\" style=\"line-height: 2.5; direction: ltr\">There is \n",
       "<mark class=\"entity\" style=\"background: #1f77b4; padding: 0.45em 0.6em; margin: 0 0.25em; line-height: 1; border-radius: 0.35em;\">\n",
       "    no evidence of\n",
       "    <span style=\"font-size: 0.8em; font-weight: bold; line-height: 1; border-radius: 0.35em; vertical-align: middle; margin-left: 0.5rem\">NEGATED_EXISTENCE</span>\n",
       "</mark>\n",
       " \n",
       "<mark class=\"entity\" style=\"background: #ff7f0e; padding: 0.45em 0.6em; margin: 0 0.25em; line-height: 1; border-radius: 0.35em;\">\n",
       "    pneumonia\n",
       "    <span style=\"font-size: 0.8em; font-weight: bold; line-height: 1; border-radius: 0.35em; vertical-align: middle; margin-left: 0.5rem\">EVIDENCE_OF_PNEUMONIA</span>\n",
       "</mark>\n",
       ".</div></span>"
      ],
      "text/plain": [
       "<IPython.core.display.HTML object>"
      ]
     },
     "metadata": {},
     "output_type": "display_data"
    }
   ],
   "source": [
    "visualize_ent(doc)"
   ]
  },
  {
   "cell_type": "markdown",
   "metadata": {},
   "source": [
    "The `visualize_dep` function uses a dependency-parse style graphic to show the relationships between targets and modifiers:"
   ]
  },
  {
   "cell_type": "code",
   "execution_count": 28,
   "metadata": {},
   "outputs": [
    {
     "data": {
      "text/html": [
       "<span class=\"tex2jax_ignore\"><svg xmlns=\"http://www.w3.org/2000/svg\" xmlns:xlink=\"http://www.w3.org/1999/xlink\" xml:lang=\"en\" id=\"00ab5ea658a04ae0876e05d66ecfca99-0\" class=\"displacy\" width=\"925\" height=\"224.5\" direction=\"ltr\" style=\"max-width: none; height: 224.5px; color: #000000; background: #ffffff; font-family: Arial; direction: ltr\">\n",
       "<text class=\"displacy-token\" fill=\"currentColor\" text-anchor=\"middle\" y=\"134.5\">\n",
       "    <tspan class=\"displacy-word\" fill=\"currentColor\" x=\"50\">There</tspan>\n",
       "    <tspan class=\"displacy-tag\" dy=\"2em\" fill=\"currentColor\" x=\"50\"></tspan>\n",
       "</text>\n",
       "\n",
       "<text class=\"displacy-token\" fill=\"currentColor\" text-anchor=\"middle\" y=\"134.5\">\n",
       "    <tspan class=\"displacy-word\" fill=\"currentColor\" x=\"225\">is</tspan>\n",
       "    <tspan class=\"displacy-tag\" dy=\"2em\" fill=\"currentColor\" x=\"225\"></tspan>\n",
       "</text>\n",
       "\n",
       "<text class=\"displacy-token\" fill=\"currentColor\" text-anchor=\"middle\" y=\"134.5\">\n",
       "    <tspan class=\"displacy-word\" fill=\"currentColor\" x=\"400\">no evidence of</tspan>\n",
       "    <tspan class=\"displacy-tag\" dy=\"2em\" fill=\"currentColor\" x=\"400\">NEGATED_EXISTENCE</tspan>\n",
       "</text>\n",
       "\n",
       "<text class=\"displacy-token\" fill=\"currentColor\" text-anchor=\"middle\" y=\"134.5\">\n",
       "    <tspan class=\"displacy-word\" fill=\"currentColor\" x=\"575\">pneumonia</tspan>\n",
       "    <tspan class=\"displacy-tag\" dy=\"2em\" fill=\"currentColor\" x=\"575\">EVIDENCE_OF_PNEUMONIA</tspan>\n",
       "</text>\n",
       "\n",
       "<text class=\"displacy-token\" fill=\"currentColor\" text-anchor=\"middle\" y=\"134.5\">\n",
       "    <tspan class=\"displacy-word\" fill=\"currentColor\" x=\"750\">.</tspan>\n",
       "    <tspan class=\"displacy-tag\" dy=\"2em\" fill=\"currentColor\" x=\"750\"></tspan>\n",
       "</text>\n",
       "\n",
       "<g class=\"displacy-arrow\">\n",
       "    <path class=\"displacy-arc\" id=\"arrow-00ab5ea658a04ae0876e05d66ecfca99-0-0\" stroke-width=\"2px\" d=\"M420,89.5 C420,2.0 575.0,2.0 575.0,89.5\" fill=\"none\" stroke=\"currentColor\"/>\n",
       "    <text dy=\"1.25em\" style=\"font-size: 0.8em; letter-spacing: 1px\">\n",
       "        <textPath xlink:href=\"#arrow-00ab5ea658a04ae0876e05d66ecfca99-0-0\" class=\"displacy-label\" startOffset=\"50%\" side=\"left\" fill=\"currentColor\" text-anchor=\"middle\">NEGATED_EXISTENCE</textPath>\n",
       "    </text>\n",
       "    <path class=\"displacy-arrowhead\" d=\"M575.0,91.5 L583.0,79.5 567.0,79.5\" fill=\"currentColor\"/>\n",
       "</g>\n",
       "</svg></span>"
      ],
      "text/plain": [
       "<IPython.core.display.HTML object>"
      ]
     },
     "metadata": {},
     "output_type": "display_data"
    }
   ],
   "source": [
    "visualize_dep(doc)"
   ]
  },
  {
   "cell_type": "markdown",
   "metadata": {},
   "source": [
    "# Defining Modifier Rules\n",
    "In this sentence, **\"pneumonia\"** is negated. This negation is indicated by the contextual information. We can extract this by identifying the semantic modifier and relating it to the clinical entity.\n",
    "\n",
    "In medspaCy, we define modifiers in the `ConTextRule` class. We'll explain the ConTextRule class in more detail in another notebook. For now, we'll define this simple item:"
   ]
  },
  {
   "cell_type": "code",
   "execution_count": 29,
   "metadata": {},
   "outputs": [],
   "source": [
    "context_rule = ConTextRule(\"no evidence of\", \"NEGATED_EXISTENCE\", direction=\"FORWARD\")"
   ]
  },
  {
   "cell_type": "markdown",
   "metadata": {},
   "source": [
    "We then add this ItemData to the context object in a list."
   ]
  },
  {
   "cell_type": "code",
   "execution_count": 30,
   "metadata": {},
   "outputs": [],
   "source": [
    "context.add([context_rule])"
   ]
  },
  {
   "cell_type": "markdown",
   "metadata": {},
   "source": [
    "# Next Steps\n",
    "In the next notebook, we'll see how to add ConText to a spaCy pipeline to process multiple documents with different targets and modifiers."
   ]
  }
 ],
 "metadata": {
  "kernelspec": {
   "display_name": "Python 3 (ipykernel)",
   "language": "python",
   "name": "python3"
  },
  "language_info": {
   "codemirror_mode": {
    "name": "ipython",
    "version": 3
   },
   "file_extension": ".py",
   "mimetype": "text/x-python",
   "name": "python",
   "nbconvert_exporter": "python",
   "pygments_lexer": "ipython3",
   "version": "3.8.13"
  }
 },
 "nbformat": 4,
 "nbformat_minor": 4
}
