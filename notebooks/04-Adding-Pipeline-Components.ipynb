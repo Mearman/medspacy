{
 "cells": [
  {
   "cell_type": "code",
   "execution_count": 1,
   "metadata": {},
   "outputs": [],
   "source": [
    "import sys"
   ]
  },
  {
   "cell_type": "code",
   "execution_count": 2,
   "metadata": {},
   "outputs": [],
   "source": [
    "sys.path.insert(0, \"..\")"
   ]
  },
  {
   "cell_type": "code",
   "execution_count": 3,
   "metadata": {},
   "outputs": [],
   "source": [
    "import spacy\n",
    "import medspacy"
   ]
  },
  {
   "cell_type": "markdown",
   "metadata": {},
   "source": [
    "# Overview\n",
    "The previous notebooks showed the components which are loaded by a default medSpaCy model: A custom tokenizer; sentence splitter; target matcher; and context. MedSpaCy also provides other components which can be instantiated and added to an existing pipeline:\n",
    "- `Sectionizer`: Detecting section boundries in a clinical note\n",
    "- `Preprocessor`: Destructive preprocessing for simplifying or cleaning up text\n",
    "- `Postprocessor`: Additional business logic for altering or removing entities at the end of pipeline processing"
   ]
  },
  {
   "cell_type": "markdown",
   "metadata": {},
   "source": [
    "We'll start by loading some of the custom rules shown in previous notebooks:"
   ]
  },
  {
   "cell_type": "code",
   "execution_count": 4,
   "metadata": {},
   "outputs": [],
   "source": [
    "nlp = medspacy.load()"
   ]
  },
  {
   "cell_type": "code",
   "execution_count": 5,
   "metadata": {},
   "outputs": [],
   "source": [
    "from medspacy.ner import TargetRule"
   ]
  },
  {
   "cell_type": "code",
   "execution_count": 6,
   "metadata": {},
   "outputs": [],
   "source": [
    "target_matcher = nlp.get_pipe(\"medspacy_target_matcher\")"
   ]
  },
  {
   "cell_type": "code",
   "execution_count": 7,
   "metadata": {},
   "outputs": [],
   "source": [
    "target_rules = [\n",
    "    TargetRule(literal=\"abdominal pain\", category=\"PROBLEM\"),\n",
    "    TargetRule(\"stroke\", \"PROBLEM\"),\n",
    "    TargetRule(\"hemicolectomy\", \"TREATMENT\"),\n",
    "    TargetRule(\"Hydrochlorothiazide\", \"TREATMENT\"),\n",
    "    TargetRule(\"colon cancer\", \"PROBLEM\"),\n",
    "    TargetRule(\"radiotherapy\", \"PROBLEM\",\n",
    "              pattern=[{\"LOWER\": \"xrt\"}]),\n",
    "    TargetRule(\"metastasis\", \"PROBLEM\"),\n",
    "    \n",
    "]"
   ]
  },
  {
   "cell_type": "code",
   "execution_count": 8,
   "metadata": {},
   "outputs": [],
   "source": [
    "target_matcher.add(target_rules)"
   ]
  },
  {
   "cell_type": "code",
   "execution_count": 9,
   "metadata": {},
   "outputs": [],
   "source": [
    "with open(\"./discharge_summary.txt\") as f:\n",
    "    text = f.read()"
   ]
  },
  {
   "cell_type": "markdown",
   "metadata": {},
   "source": [
    "# Section detection\n",
    "We are often interested in which section of a clinical note an entity occurs in. This can be useful for setting attributes like temporality (similar to ConText) or for extracting entities from specific sections of the note.\n",
    "\n",
    "MedSpaCy includes the `Sectionizer` class from the [clinical_sectionizer](https://github.com/medspacy/sectionizer) package. Similar to `ConTextComponent`, we can instantiate this with default rules and add new ones to fit our specific data. Section detection is especially dependent on your data, as each EHR will use different note formatting."
   ]
  },
  {
   "cell_type": "code",
   "execution_count": 10,
   "metadata": {},
   "outputs": [],
   "source": [
    "from medspacy.section_detection import Sectionizer"
   ]
  },
  {
   "cell_type": "code",
   "execution_count": 11,
   "metadata": {},
   "outputs": [],
   "source": [
    "sectionizer = nlp.add_pipe(\"medspacy_sectionizer\")"
   ]
  },
  {
   "cell_type": "code",
   "execution_count": 12,
   "metadata": {},
   "outputs": [
    {
     "data": {
      "text/plain": [
       "['medspacy_pyrush',\n",
       " 'medspacy_target_matcher',\n",
       " 'medspacy_context',\n",
       " 'medspacy_sectionizer']"
      ]
     },
     "execution_count": 12,
     "metadata": {},
     "output_type": "execute_result"
    }
   ],
   "source": [
    "nlp.pipe_names"
   ]
  },
  {
   "cell_type": "code",
   "execution_count": 13,
   "metadata": {},
   "outputs": [],
   "source": [
    "doc = nlp(text)"
   ]
  },
  {
   "cell_type": "markdown",
   "metadata": {},
   "source": [
    "`visualize_ent` will now highlight section titles in addition to entities and context modifiers:"
   ]
  },
  {
   "cell_type": "code",
   "execution_count": 14,
   "metadata": {},
   "outputs": [],
   "source": [
    "from medspacy.visualization import visualize_ent"
   ]
  },
  {
   "cell_type": "code",
   "execution_count": 15,
   "metadata": {},
   "outputs": [
    {
     "data": {
      "text/html": [
       "<span class=\"tex2jax_ignore\"><div class=\"entities\" style=\"line-height: 2.5; direction: ltr\">Admission Date:  [**2573-5-30**]              Discharge Date:   [**2573-7-1**]</br></br>Date of Birth:  [**2498-8-19**]             Sex:   F</br></br>\n",
       "<mark class=\"entity\" style=\"background: #dee0e3; padding: 0.45em 0.6em; margin: 0 0.25em; line-height: 1; border-radius: 0.35em;\">\n",
       "    Service:\n",
       "    <span style=\"font-size: 0.8em; font-weight: bold; line-height: 1; border-radius: 0.35em; vertical-align: middle; margin-left: 0.5rem\"><< OTHER >></span>\n",
       "</mark>\n",
       " SURGERY</br></br>\n",
       "<mark class=\"entity\" style=\"background: #dee0e3; padding: 0.45em 0.6em; margin: 0 0.25em; line-height: 1; border-radius: 0.35em;\">\n",
       "    Allergies:\n",
       "    <span style=\"font-size: 0.8em; font-weight: bold; line-height: 1; border-radius: 0.35em; vertical-align: middle; margin-left: 0.5rem\"><< ALLERGY >></span>\n",
       "</mark>\n",
       "</br>\n",
       "<mark class=\"entity\" style=\"background: #2ca02c; padding: 0.45em 0.6em; margin: 0 0.25em; line-height: 1; border-radius: 0.35em;\">\n",
       "    Hydrochlorothiazide\n",
       "    <span style=\"font-size: 0.8em; font-weight: bold; line-height: 1; border-radius: 0.35em; vertical-align: middle; margin-left: 0.5rem\">TREATMENT</span>\n",
       "</mark>\n",
       "</br></br>Attending:[**First Name3 (LF) 1893**]</br>\n",
       "<mark class=\"entity\" style=\"background: #dee0e3; padding: 0.45em 0.6em; margin: 0 0.25em; line-height: 1; border-radius: 0.35em;\">\n",
       "    Chief Complaint:\n",
       "    <span style=\"font-size: 0.8em; font-weight: bold; line-height: 1; border-radius: 0.35em; vertical-align: middle; margin-left: 0.5rem\"><< CHIEF_COMPLAINT >></span>\n",
       "</mark>\n",
       "</br>\n",
       "<mark class=\"entity\" style=\"background: #1f77b4; padding: 0.45em 0.6em; margin: 0 0.25em; line-height: 1; border-radius: 0.35em;\">\n",
       "    Abdominal pain\n",
       "    <span style=\"font-size: 0.8em; font-weight: bold; line-height: 1; border-radius: 0.35em; vertical-align: middle; margin-left: 0.5rem\">PROBLEM</span>\n",
       "</mark>\n",
       "</br></br>Major Surgical or Invasive Procedure:</br>PICC line [**6-25**]</br>ERCP w/ sphincterotomy [**5-31**]</br></br></br>\n",
       "<mark class=\"entity\" style=\"background: #dee0e3; padding: 0.45em 0.6em; margin: 0 0.25em; line-height: 1; border-radius: 0.35em;\">\n",
       "    History of Present Illness:\n",
       "    <span style=\"font-size: 0.8em; font-weight: bold; line-height: 1; border-radius: 0.35em; vertical-align: middle; margin-left: 0.5rem\"><< HISTORY_OF_PRESENT_ILLNESS >></span>\n",
       "</mark>\n",
       "</br>74y female with type 2 dm and a recent \n",
       "<mark class=\"entity\" style=\"background: #1f77b4; padding: 0.45em 0.6em; margin: 0 0.25em; line-height: 1; border-radius: 0.35em;\">\n",
       "    stroke\n",
       "    <span style=\"font-size: 0.8em; font-weight: bold; line-height: 1; border-radius: 0.35em; vertical-align: middle; margin-left: 0.5rem\">PROBLEM</span>\n",
       "</mark>\n",
       " affecting her</br>speech, who presents with 2 days of \n",
       "<mark class=\"entity\" style=\"background: #1f77b4; padding: 0.45em 0.6em; margin: 0 0.25em; line-height: 1; border-radius: 0.35em;\">\n",
       "    abdominal pain\n",
       "    <span style=\"font-size: 0.8em; font-weight: bold; line-height: 1; border-radius: 0.35em; vertical-align: middle; margin-left: 0.5rem\">PROBLEM</span>\n",
       "</mark>\n",
       ". Imaging shows \n",
       "<mark class=\"entity\" style=\"background: #ff7f0e; padding: 0.45em 0.6em; margin: 0 0.25em; line-height: 1; border-radius: 0.35em;\">\n",
       "    no evidence of\n",
       "    <span style=\"font-size: 0.8em; font-weight: bold; line-height: 1; border-radius: 0.35em; vertical-align: middle; margin-left: 0.5rem\">NEGATED_EXISTENCE</span>\n",
       "</mark>\n",
       " \n",
       "<mark class=\"entity\" style=\"background: #1f77b4; padding: 0.45em 0.6em; margin: 0 0.25em; line-height: 1; border-radius: 0.35em;\">\n",
       "    metastasis\n",
       "    <span style=\"font-size: 0.8em; font-weight: bold; line-height: 1; border-radius: 0.35em; vertical-align: middle; margin-left: 0.5rem\">PROBLEM</span>\n",
       "</mark>\n",
       ". She is not receiving any chemo.</br></br>\n",
       "<mark class=\"entity\" style=\"background: #dee0e3; padding: 0.45em 0.6em; margin: 0 0.25em; line-height: 1; border-radius: 0.35em;\">\n",
       "    Past Medical History:\n",
       "    <span style=\"font-size: 0.8em; font-weight: bold; line-height: 1; border-radius: 0.35em; vertical-align: middle; margin-left: 0.5rem\"><< PAST_MEDICAL_HISTORY >></span>\n",
       "</mark>\n",
       "</br>1. \n",
       "<mark class=\"entity\" style=\"background: #1f77b4; padding: 0.45em 0.6em; margin: 0 0.25em; line-height: 1; border-radius: 0.35em;\">\n",
       "    Colon cancer\n",
       "    <span style=\"font-size: 0.8em; font-weight: bold; line-height: 1; border-radius: 0.35em; vertical-align: middle; margin-left: 0.5rem\">PROBLEM</span>\n",
       "</mark>\n",
       " dx'd in [**2554**], tx'd with \n",
       "<mark class=\"entity\" style=\"background: #2ca02c; padding: 0.45em 0.6em; margin: 0 0.25em; line-height: 1; border-radius: 0.35em;\">\n",
       "    hemicolectomy\n",
       "    <span style=\"font-size: 0.8em; font-weight: bold; line-height: 1; border-radius: 0.35em; vertical-align: middle; margin-left: 0.5rem\">TREATMENT</span>\n",
       "</mark>\n",
       ", \n",
       "<mark class=\"entity\" style=\"background: #1f77b4; padding: 0.45em 0.6em; margin: 0 0.25em; line-height: 1; border-radius: 0.35em;\">\n",
       "    XRT\n",
       "    <span style=\"font-size: 0.8em; font-weight: bold; line-height: 1; border-radius: 0.35em; vertical-align: middle; margin-left: 0.5rem\">PROBLEM</span>\n",
       "</mark>\n",
       ",</br>chemo. Last colonoscopy showed: Last CEA was in the 8 range</br>(down from 9)</br>2. Type II Diabetes Mellitus</br>3. Hypertension</br></br>\n",
       "<mark class=\"entity\" style=\"background: #dee0e3; padding: 0.45em 0.6em; margin: 0 0.25em; line-height: 1; border-radius: 0.35em;\">\n",
       "    Social History:\n",
       "    <span style=\"font-size: 0.8em; font-weight: bold; line-height: 1; border-radius: 0.35em; vertical-align: middle; margin-left: 0.5rem\"><< SOCIAL_HISTORY >></span>\n",
       "</mark>\n",
       "</br>Married, former tobacco use. No alcohol or drug use.</br></br>\n",
       "<mark class=\"entity\" style=\"background: #dee0e3; padding: 0.45em 0.6em; margin: 0 0.25em; line-height: 1; border-radius: 0.35em;\">\n",
       "    Family History:\n",
       "    <span style=\"font-size: 0.8em; font-weight: bold; line-height: 1; border-radius: 0.35em; vertical-align: middle; margin-left: 0.5rem\"><< FAMILY_HISTORY >></span>\n",
       "</mark>\n",
       "</br>\n",
       "<mark class=\"entity\" style=\"background: #d62728; padding: 0.45em 0.6em; margin: 0 0.25em; line-height: 1; border-radius: 0.35em;\">\n",
       "    Mother\n",
       "    <span style=\"font-size: 0.8em; font-weight: bold; line-height: 1; border-radius: 0.35em; vertical-align: middle; margin-left: 0.5rem\">FAMILY</span>\n",
       "</mark>\n",
       " with \n",
       "<mark class=\"entity\" style=\"background: #1f77b4; padding: 0.45em 0.6em; margin: 0 0.25em; line-height: 1; border-radius: 0.35em;\">\n",
       "    stroke\n",
       "    <span style=\"font-size: 0.8em; font-weight: bold; line-height: 1; border-radius: 0.35em; vertical-align: middle; margin-left: 0.5rem\">PROBLEM</span>\n",
       "</mark>\n",
       " at age 82. no early deaths.</br>2 daughters- healthy</br></br></br>\n",
       "<mark class=\"entity\" style=\"background: #dee0e3; padding: 0.45em 0.6em; margin: 0 0.25em; line-height: 1; border-radius: 0.35em;\">\n",
       "    Brief Hospital Course:\n",
       "    <span style=\"font-size: 0.8em; font-weight: bold; line-height: 1; border-radius: 0.35em; vertical-align: middle; margin-left: 0.5rem\"><< HOSPITAL_COURSE >></span>\n",
       "</mark>\n",
       "</br>Ms. [**Known patient lastname 2004**] was admitted on [**2573-5-30**]. Ultrasound at the time of</br>admission demonstrated pancreatic duct dilitation and an</br>edematous gallbladder. She was admitted to the ICU.</br>\n",
       "<mark class=\"entity\" style=\"background: #dee0e3; padding: 0.45em 0.6em; margin: 0 0.25em; line-height: 1; border-radius: 0.35em;\">\n",
       "    Discharge Medications:\n",
       "    <span style=\"font-size: 0.8em; font-weight: bold; line-height: 1; border-radius: 0.35em; vertical-align: middle; margin-left: 0.5rem\"><< MEDICATIONS >></span>\n",
       "</mark>\n",
       "</br>1. Miconazole Nitrate 2 % Powder Sig: One (1) Appl Topical  BID</br>(2 times a day) as needed.</br>2. Heparin Sodium (Porcine) 5,000 unit/mL Solution Sig: One (1)</br>Injection TID (3 times a day).</br>3. Acetaminophen 160 mg/5 mL Elixir Sig: One (1)  PO Q4-6H</br>(every 4 to 6 hours) as needed.</br></br>\n",
       "<mark class=\"entity\" style=\"background: #dee0e3; padding: 0.45em 0.6em; margin: 0 0.25em; line-height: 1; border-radius: 0.35em;\">\n",
       "    Discharge Diagnosis:\n",
       "    <span style=\"font-size: 0.8em; font-weight: bold; line-height: 1; border-radius: 0.35em; vertical-align: middle; margin-left: 0.5rem\"><< OBSERVATION_AND_PLAN >></span>\n",
       "</mark>\n",
       "</br>Type 2 DM</br>Pancreatitis</br>HTN</br>h/o aspiration respiratory distress</br></br></br>\n",
       "<mark class=\"entity\" style=\"background: #dee0e3; padding: 0.45em 0.6em; margin: 0 0.25em; line-height: 1; border-radius: 0.35em;\">\n",
       "    Discharge Instructions:\n",
       "    <span style=\"font-size: 0.8em; font-weight: bold; line-height: 1; border-radius: 0.35em; vertical-align: middle; margin-left: 0.5rem\"><< PATIENT_INSTRUCTIONS >></span>\n",
       "</mark>\n",
       "</br>Patient may shower. Please call your surgeon or return to the</br>emergency room \n",
       "<mark class=\"entity\" style=\"background: #9467bd; padding: 0.45em 0.6em; margin: 0 0.25em; line-height: 1; border-radius: 0.35em;\">\n",
       "    if\n",
       "    <span style=\"font-size: 0.8em; font-weight: bold; line-height: 1; border-radius: 0.35em; vertical-align: middle; margin-left: 0.5rem\">HYPOTHETICAL</span>\n",
       "</mark>\n",
       " [**Doctor First Name **] experience fever &gt;101.5, nausea, vomiting,</br>\n",
       "<mark class=\"entity\" style=\"background: #1f77b4; padding: 0.45em 0.6em; margin: 0 0.25em; line-height: 1; border-radius: 0.35em;\">\n",
       "    abdominal pain\n",
       "    <span style=\"font-size: 0.8em; font-weight: bold; line-height: 1; border-radius: 0.35em; vertical-align: middle; margin-left: 0.5rem\">PROBLEM</span>\n",
       "</mark>\n",
       ", shortness of breath, \n",
       "<mark class=\"entity\" style=\"background: #1f77b4; padding: 0.45em 0.6em; margin: 0 0.25em; line-height: 1; border-radius: 0.35em;\">\n",
       "    abdominal pain\n",
       "    <span style=\"font-size: 0.8em; font-weight: bold; line-height: 1; border-radius: 0.35em; vertical-align: middle; margin-left: 0.5rem\">PROBLEM</span>\n",
       "</mark>\n",
       " or any</br>significant  change in your medical condition. A</br></br>Completed by: [**First Name11 (Name Pattern1) 2010**] [**Last Name (NamePattern1) 2011**] MD [**MD Number 2012**] [**2573-7-1**] @ 1404</br>\n",
       "<mark class=\"entity\" style=\"background: #dee0e3; padding: 0.45em 0.6em; margin: 0 0.25em; line-height: 1; border-radius: 0.35em;\">\n",
       "    Signed electronically by:\n",
       "    <span style=\"font-size: 0.8em; font-weight: bold; line-height: 1; border-radius: 0.35em; vertical-align: middle; margin-left: 0.5rem\"><< SIGNATURE >></span>\n",
       "</mark>\n",
       " DR. [**First Name8 (NamePattern2) **] [**Last Name (NamePattern1) **]</br> on: FRI [**2573-7-2**] 8:03 AM</br>(End of Report)</div></span>"
      ],
      "text/plain": [
       "<IPython.core.display.HTML object>"
      ]
     },
     "metadata": {},
     "output_type": "display_data"
    }
   ],
   "source": [
    "visualize_ent(doc)"
   ]
  },
  {
   "cell_type": "markdown",
   "metadata": {},
   "source": [
    "We can see here that the default rules did not catch the section title **\"Brief Hospital Course\"**. We can add a `SectionRule` to define which sections to match in the text. `SectionRule` is similar to `TargetRule` and `ConTextRule` and takes the following arguments:\n",
    "- **\"literal\"**: An exact string to match if `pattern` is None\n",
    "- **\"category\"**: The normalized section title\n",
    "- **\"pattern\"** (opt): Either a regular expression string or a spaCy pattern (list of dicts) to match the text\n",
    "- **\"parent\"** (opt): An optional parent, which will be explained in other notebooks"
   ]
  },
  {
   "cell_type": "code",
   "execution_count": 16,
   "metadata": {},
   "outputs": [],
   "source": [
    "from medspacy.section_detection import SectionRule\n",
    "section_rules = [\n",
    "    SectionRule(literal=\"Brief Hospital Course:\", category=\"hospital_course\"),\n",
    "    SectionRule(\"Major Surgical or Invasive Procedure:\", \"procedure\",\n",
    "               pattern=r\"Major Surgical( or |/)Invasive Procedure:\"),\n",
    "    SectionRule(\"Assessment/Plan\", \"assessment_and_plan\",\n",
    "               pattern=[\n",
    "                   {\"LOWER\": \"assessment\"},\n",
    "                   {\"LOWER\": {\"IN\": [\"and\", \"/\", \"&\"]}},\n",
    "                   {\"LOWER\": \"plan\"}\n",
    "               ]),\n",
    "]"
   ]
  },
  {
   "cell_type": "code",
   "execution_count": 17,
   "metadata": {},
   "outputs": [],
   "source": [
    "sectionizer.add(section_rules)"
   ]
  },
  {
   "cell_type": "code",
   "execution_count": 18,
   "metadata": {},
   "outputs": [
    {
     "data": {
      "text/html": [
       "<span class=\"tex2jax_ignore\"><div class=\"entities\" style=\"line-height: 2.5; direction: ltr\"></br>\n",
       "<mark class=\"entity\" style=\"background: #dee0e3; padding: 0.45em 0.6em; margin: 0 0.25em; line-height: 1; border-radius: 0.35em;\">\n",
       "    Brief Hospital Course:\n",
       "    <span style=\"font-size: 0.8em; font-weight: bold; line-height: 1; border-radius: 0.35em; vertical-align: middle; margin-left: 0.5rem\"><< HOSPITAL_COURSE >></span>\n",
       "</mark>\n",
       "</br>Ms. [**Known patient lastname 2004**] was admitted on [**2573-5-30**]. Ultrasound at the time of</br>admission demonstrated pancreatic duct dilitation and an</br>edematous gallbladder. She was admitted to the ICU.</br></br>\n",
       "<mark class=\"entity\" style=\"background: #dee0e3; padding: 0.45em 0.6em; margin: 0 0.25em; line-height: 1; border-radius: 0.35em;\">\n",
       "    Major Surgical or Invasive Procedure:\n",
       "    <span style=\"font-size: 0.8em; font-weight: bold; line-height: 1; border-radius: 0.35em; vertical-align: middle; margin-left: 0.5rem\"><< PROCEDURE >></span>\n",
       "</mark>\n",
       "</br>PICC line [**6-25**]</br>ERCP w/ sphincterotomy [**5-31**]</br></br>\n",
       "<mark class=\"entity\" style=\"background: #dee0e3; padding: 0.45em 0.6em; margin: 0 0.25em; line-height: 1; border-radius: 0.35em;\">\n",
       "    Assessment/Plan:\n",
       "    <span style=\"font-size: 0.8em; font-weight: bold; line-height: 1; border-radius: 0.35em; vertical-align: middle; margin-left: 0.5rem\"><< OBSERVATION_AND_PLAN >></span>\n",
       "</mark>\n",
       "</br>Follow up in 3 weeks.</br></div></span>"
      ],
      "text/plain": [
       "<IPython.core.display.HTML object>"
      ]
     },
     "metadata": {},
     "output_type": "display_data"
    }
   ],
   "source": [
    "visualize_ent(nlp(\"\"\"\n",
    "Brief Hospital Course:\n",
    "Ms. [**Known patient lastname 2004**] was admitted on [**2573-5-30**]. Ultrasound at the time of\n",
    "admission demonstrated pancreatic duct dilitation and an\n",
    "edematous gallbladder. She was admitted to the ICU.\n",
    "\n",
    "Major Surgical or Invasive Procedure:\n",
    "PICC line [**6-25**]\n",
    "ERCP w/ sphincterotomy [**5-31**]\n",
    "\n",
    "Assessment/Plan:\n",
    "Follow up in 3 weeks.\n",
    "\"\"\"))"
   ]
  },
  {
   "cell_type": "code",
   "execution_count": null,
   "metadata": {},
   "outputs": [],
   "source": []
  },
  {
   "cell_type": "markdown",
   "metadata": {},
   "source": [
    "The sectionizer will add attributes to allow us to access section data. The `doc` object will have a number of section-related attributes:"
   ]
  },
  {
   "cell_type": "code",
   "execution_count": 19,
   "metadata": {},
   "outputs": [
    {
     "name": "stdout",
     "output_type": "stream",
     "text": [
      "[, Service:, Allergies:, Chief Complaint:, History of Present Illness:, Past Medical History:, Social History:, Family History:, Brief Hospital Course:, Discharge Medications:, Discharge Diagnosis:, Discharge Instructions:, Signed electronically by:]\n"
     ]
    }
   ],
   "source": [
    "# Normalized section titles\n",
    "print(doc._.section_titles)"
   ]
  },
  {
   "cell_type": "code",
   "execution_count": 20,
   "metadata": {},
   "outputs": [
    {
     "data": {
      "text/plain": [
       "[,\n",
       " Service:,\n",
       " Allergies:,\n",
       " Chief Complaint:,\n",
       " History of Present Illness:,\n",
       " Past Medical History:,\n",
       " Social History:,\n",
       " Family History:,\n",
       " Brief Hospital Course:,\n",
       " Discharge Medications:,\n",
       " Discharge Diagnosis:,\n",
       " Discharge Instructions:,\n",
       " Signed electronically by:]"
      ]
     },
     "execution_count": 20,
     "metadata": {},
     "output_type": "execute_result"
    }
   ],
   "source": [
    "# The Spans of the doc representing section headers\n",
    "doc._.section_titles"
   ]
  },
  {
   "cell_type": "code",
   "execution_count": 21,
   "metadata": {},
   "outputs": [
    {
     "data": {
      "text/plain": [
       "[Admission Date:  [**2573-5-30**]              Discharge Date:   [**2573-7-1**]\n",
       " \n",
       " Date of Birth:  [**2498-8-19**]             Sex:   F\n",
       " ,\n",
       " Service: SURGERY\n",
       " ,\n",
       " Allergies:\n",
       " Hydrochlorothiazide\n",
       " \n",
       " Attending:[**First Name3 (LF) 1893**],\n",
       " Chief Complaint:\n",
       " Abdominal pain\n",
       " \n",
       " Major Surgical or Invasive Procedure:\n",
       " PICC line [**6-25**]\n",
       " ERCP w/ sphincterotomy [**5-31**]\n",
       " \n",
       " ,\n",
       " History of Present Illness:\n",
       " 74y female with type 2 dm and a recent stroke affecting her\n",
       " speech, who presents with 2 days of abdominal pain. Imaging shows no evidence of metastasis. She is not receiving any chemo.\n",
       " ]"
      ]
     },
     "execution_count": 21,
     "metadata": {},
     "output_type": "execute_result"
    }
   ],
   "source": [
    "# Spans of the entire sections of the notes\n",
    "doc._.section_spans[:5]"
   ]
  },
  {
   "cell_type": "markdown",
   "metadata": {},
   "source": [
    "Which can be accessed as `Section` objects under `doc._.sections`:"
   ]
  },
  {
   "cell_type": "code",
   "execution_count": 22,
   "metadata": {},
   "outputs": [
    {
     "name": "stdout",
     "output_type": "stream",
     "text": [
      "[Section(category=None at 0 : 0 in the doc with a body at 0 : 54 based on the rule None, Section(category=other at 54 : 56 in the doc with a body at 56 : 58 based on the rule SectionRule(literal=\"Service:\", category=\"other\", pattern=None, on_match=None, parents=None, parent_required=False), Section(category=allergy at 58 : 60 in the doc with a body at 60 : 78 based on the rule SectionRule(literal=\"ALLERGIES:\", category=\"allergy\", pattern=None, on_match=None, parents=None, parent_required=False), Section(category=chief_complaint at 78 : 81 in the doc with a body at 81 : 118 based on the rule SectionRule(literal=\"CHIEF COMPLAINT:\", category=\"chief_complaint\", pattern=None, on_match=None, parents=None, parent_required=False), Section(category=history_of_present_illness at 118 : 123 in the doc with a body at 123 : 163 based on the rule SectionRule(literal=\"HISTORY OF PRESENT ILLNESS:\", category=\"history_of_present_illness\", pattern=None, on_match=None, parents=None, parent_required=False)]\n"
     ]
    }
   ],
   "source": [
    "print(doc._.sections[:5])"
   ]
  },
  {
   "cell_type": "code",
   "execution_count": null,
   "metadata": {},
   "outputs": [],
   "source": []
  },
  {
   "cell_type": "markdown",
   "metadata": {},
   "source": [
    "For each section detected in the note, we'll print out the\n",
    "- The normalized section title\n",
    "- The actual span of the doc containing the section header\n",
    "- The parent section\n",
    "- The entire span of the section in the doc\n",
    "\n",
    "These are explained in more detail in the `section_detection/` notebooks."
   ]
  },
  {
   "cell_type": "code",
   "execution_count": 23,
   "metadata": {},
   "outputs": [
    {
     "name": "stdout",
     "output_type": "stream",
     "text": [
      "None (0, 0) None\n",
      "(0, 54)\n",
      "----------------\n",
      "other (54, 56) None\n",
      "(54, 58)\n",
      "----------------\n",
      "allergy (58, 60) None\n",
      "(58, 78)\n",
      "----------------\n",
      "chief_complaint (78, 81) None\n",
      "(78, 118)\n",
      "----------------\n",
      "history_of_present_illness (118, 123) None\n",
      "(118, 163)\n",
      "----------------\n",
      "past_medical_history (163, 167) None\n",
      "(163, 222)\n",
      "----------------\n",
      "social_history (222, 225) None\n",
      "(222, 239)\n",
      "----------------\n",
      "family_history (239, 242) None\n",
      "(239, 260)\n",
      "----------------\n",
      "hospital_course (260, 264) None\n",
      "(260, 316)\n",
      "----------------\n",
      "medications (316, 319) None\n",
      "(316, 411)\n",
      "----------------\n",
      "observation_and_plan (411, 414) None\n",
      "(411, 430)\n",
      "----------------\n",
      "patient_instructions (430, 433) None\n",
      "(430, 543)\n",
      "----------------\n",
      "signature (543, 547) None\n",
      "(543, 596)\n",
      "----------------\n"
     ]
    }
   ],
   "source": [
    "for section in doc._.sections:\n",
    "    print(section.category, section.title_span, section.parent)\n",
    "    print(section.section_span[:25])\n",
    "    print(\"----------------\")"
   ]
  },
  {
   "cell_type": "markdown",
   "metadata": {},
   "source": [
    "Each entity has similar attributes:"
   ]
  },
  {
   "cell_type": "code",
   "execution_count": 24,
   "metadata": {},
   "outputs": [
    {
     "name": "stdout",
     "output_type": "stream",
     "text": [
      "Hydrochlorothiazide allergy Allergies: Allergies:\n",
      "Hydrochlorothiazide\n",
      "\n",
      "Attending:[**\n",
      "\n",
      "Abdominal pain chief_complaint Chief Complaint: Chief Complaint:\n",
      "Abdominal pain\n",
      "\n",
      "Major Surgical or\n",
      "\n",
      "stroke history_of_present_illness History of Present Illness: History of Present Illness:\n",
      "74y female with type\n",
      "\n",
      "abdominal pain history_of_present_illness History of Present Illness: History of Present Illness:\n",
      "74y female with type\n",
      "\n",
      "metastasis history_of_present_illness History of Present Illness: History of Present Illness:\n",
      "74y female with type\n",
      "\n",
      "Colon cancer past_medical_history Past Medical History: Past Medical History:\n",
      "1. Colon cancer dx\n",
      "\n",
      "hemicolectomy past_medical_history Past Medical History: Past Medical History:\n",
      "1. Colon cancer dx\n",
      "\n",
      "XRT past_medical_history Past Medical History: Past Medical History:\n",
      "1. Colon cancer dx\n",
      "\n",
      "stroke family_history Family History: Family History:\n",
      "Mother with stroke at age 82\n",
      "\n",
      "abdominal pain patient_instructions Discharge Instructions: Discharge Instructions:\n",
      "Patient may shower. Please call\n",
      "\n",
      "abdominal pain patient_instructions Discharge Instructions: Discharge Instructions:\n",
      "Patient may shower. Please call\n",
      "\n"
     ]
    }
   ],
   "source": [
    "for ent in doc.ents:\n",
    "    print(ent, ent._.section_category, ent._.section_title, ent._.section_span[:10])\n",
    "    print()"
   ]
  },
  {
   "cell_type": "code",
   "execution_count": null,
   "metadata": {},
   "outputs": [],
   "source": []
  },
  {
   "cell_type": "markdown",
   "metadata": {},
   "source": [
    "# Preprocessing\n",
    "In preprocessing, we'll take some steps to clean up the text.\n",
    "- Lower-case (for demonstration purposes only; later steps are sometimes case-sensitive unless explicitly told not to be)\n",
    "- Replace MIMIC-style time brackets with \"2010\" and remove all other MIMIC-style formatting\n",
    "- Replace acronyms such as \"dx'd\" and \"tx'd\" to simplify later processing\n",
    "\n",
    "The preprocessing component is implemented in [nlp_preprocessor](https://github.com/medspacy/nlp_preprocessor)."
   ]
  },
  {
   "cell_type": "code",
   "execution_count": 25,
   "metadata": {},
   "outputs": [],
   "source": [
    "from medspacy.preprocess import Preprocessor, PreprocessingRule\n",
    "import re"
   ]
  },
  {
   "cell_type": "code",
   "execution_count": 26,
   "metadata": {},
   "outputs": [],
   "source": [
    "preprocessor = Preprocessor(nlp.tokenizer)"
   ]
  },
  {
   "cell_type": "code",
   "execution_count": 27,
   "metadata": {},
   "outputs": [],
   "source": [
    "preprocess_rules = [\n",
    "    PreprocessingRule(\n",
    "        r\"\\[\\*\\*[\\d]{1,4}-[\\d]{1,2}(-[\\d]{1,2})?\\*\\*\\]\",\n",
    "        repl=\"01-01-2010\",\n",
    "        desc=\"Replace MIMIC date brackets with a generic date.\"\n",
    "    ),\n",
    "    \n",
    "    PreprocessingRule(\n",
    "        r\"\\[\\*\\*[\\d]{4}\\*\\*\\]\",\n",
    "        repl=\"2010\",\n",
    "        desc=\"Replace MIMIC year brackets with a generic year.\"\n",
    "    ),\n",
    "    \n",
    "    PreprocessingRule(\n",
    "        r\"dx'd\", repl=\"Diagnosed\", \n",
    "                  desc=\"Replace abbreviation\"\n",
    "    ),\n",
    "    \n",
    "    PreprocessingRule(\n",
    "        r\"tx'd\", repl=\"Treated\", \n",
    "                  desc=\"Replace abbreviation\"\n",
    "    ),\n",
    "    \n",
    "        PreprocessingRule(\n",
    "        r\"\\[\\*\\*[^\\]]+\\]\", \n",
    "        desc=\"Remove all other bracketed placeholder text from MIMIC\"\n",
    "    )\n",
    "]"
   ]
  },
  {
   "cell_type": "code",
   "execution_count": 28,
   "metadata": {},
   "outputs": [],
   "source": [
    "preprocessor.add(preprocess_rules)"
   ]
  },
  {
   "cell_type": "code",
   "execution_count": 29,
   "metadata": {},
   "outputs": [],
   "source": [
    "nlp.tokenizer = preprocessor"
   ]
  },
  {
   "cell_type": "code",
   "execution_count": 30,
   "metadata": {},
   "outputs": [],
   "source": [
    "preprocessed_doc = nlp(text)"
   ]
  },
  {
   "cell_type": "code",
   "execution_count": 31,
   "metadata": {},
   "outputs": [
    {
     "name": "stdout",
     "output_type": "stream",
     "text": [
      "Admission Date:  [**2573-5-30**]              Discharge Date:   [**2573-7-1**]\n",
      "\n",
      "Date of Birth:  [**2498-8-19**]             Sex:   F\n",
      "\n",
      "Service: SURGERY\n",
      "\n",
      "Allergies:\n",
      "Hydrochlorothiazide\n",
      "\n",
      "Attending:[**First Name3 (LF) 1893**]\n",
      "Chief Complaint:\n",
      "Abdominal pain\n",
      "\n",
      "Major Surgical or Invasive Procedure:\n",
      "PICC line [**6-25**]\n",
      "ERCP w/ sphincterotomy [**5-31**]\n",
      "\n",
      "\n",
      "History of Present Illness:\n",
      "74y female with type 2 dm and a recent stroke affecting her\n",
      "speech, who presents with 2 days of abdominal pain. Imaging shows no evidence of metastasis. She is not receiving any chemo.\n",
      "\n",
      "Past Medical History:\n",
      "1. Colon cancer dx'd in [**2554**], tx'd with hemicolectomy, XRT,\n",
      "chemo. Last colonoscopy showed: Last CEA was in the 8 range\n",
      "(down from 9)\n",
      "2. Type II Diabetes Mellitus\n",
      "3. Hypertension\n",
      "\n",
      "Social History:\n",
      "Married, former tobacco use. No alcohol or drug use.\n",
      "\n",
      "Family History:\n",
      "Mother with stroke at age 82. no early deaths.\n",
      "2 daughters- healthy\n",
      "\n",
      "\n",
      "Brief Hospital Course:\n",
      "Ms. [**Known patient lastname 2004**] was admitted on [**2573-5-30**]. Ultrasound at the time of\n",
      "admission demonstrated pancreatic duct dilitation and an\n",
      "edematous gallbladder. She was admitted to the ICU.\n",
      "Discharge Medications:\n",
      "1. Miconazole Nitrate 2 % Powder Sig: One (1) Appl Topical  BID\n",
      "(2 times a day) as needed.\n",
      "2. Heparin Sodium (Porcine) 5,000 unit/mL Solution Sig: One (1)\n",
      "Injection TID (3 times a day).\n",
      "3. Acetaminophen 160 mg/5 mL Elixir Sig: One (1)  PO Q4-6H\n",
      "(every 4 to 6 hours) as needed.\n",
      "\n",
      "Discharge Diagnosis:\n",
      "Type 2 DM\n",
      "Pancreatitis\n",
      "HTN\n",
      "h/o aspiration respiratory distress\n",
      "\n",
      "\n",
      "Discharge Instructions:\n",
      "Patient may shower. Please call your surgeon or return to the\n",
      "emergency room if [**Doctor First Name **] experience fever >101.5, nausea, vomiting,\n",
      "abdominal pain, shortness of breath, abdominal pain or any\n",
      "significant  change in your medical condition. A\n",
      "\n",
      "Completed by: [**First Name11 (Name Pattern1) 2010**] [**Last Name (NamePattern1) 2011**] MD [**MD Number 2012**] [**2573-7-1**] @ 1404\n",
      "Signed electronically by: DR. [**First Name8 (NamePattern2) **] [**Last Name (NamePattern1) **]\n",
      " on: FRI [**2573-7-2**] 8:03 AM\n",
      "(End of Report)\n"
     ]
    }
   ],
   "source": [
    "# Compare the original text with the preprocessed Doc\n",
    "print(text)"
   ]
  },
  {
   "cell_type": "code",
   "execution_count": 32,
   "metadata": {},
   "outputs": [
    {
     "data": {
      "text/plain": [
       "Admission Date:  01-01-2010              Discharge Date:   01-01-2010\n",
       "\n",
       "Date of Birth:  01-01-2010             Sex:   F\n",
       "\n",
       "Service: SURGERY\n",
       "\n",
       "Allergies:\n",
       "Hydrochlorothiazide\n",
       "\n",
       "Attending:\n",
       "Chief Complaint:\n",
       "Abdominal pain\n",
       "\n",
       "Major Surgical or Invasive Procedure:\n",
       "PICC line 01-01-2010\n",
       "ERCP w/ sphincterotomy 01-01-2010\n",
       "\n",
       "\n",
       "History of Present Illness:\n",
       "74y female with type 2 dm and a recent stroke affecting her\n",
       "speech, who presents with 2 days of abdominal pain. Imaging shows no evidence of metastasis. She is not receiving any chemo.\n",
       "\n",
       "Past Medical History:\n",
       "1. Colon cancer Diagnosed in 2010, Treated with hemicolectomy, XRT,\n",
       "chemo. Last colonoscopy showed: Last CEA was in the 8 range\n",
       "(down from 9)\n",
       "2. Type II Diabetes Mellitus\n",
       "3. Hypertension\n",
       "\n",
       "Social History:\n",
       "Married, former tobacco use. No alcohol or drug use.\n",
       "\n",
       "Family History:\n",
       "Mother with stroke at age 82. no early deaths.\n",
       "2 daughters- healthy\n",
       "\n",
       "\n",
       "Brief Hospital Course:\n",
       "Ms.  was admitted on 01-01-2010. Ultrasound at the time of\n",
       "admission demonstrated pancreatic duct dilitation and an\n",
       "edematous gallbladder. She was admitted to the ICU.\n",
       "Discharge Medications:\n",
       "1. Miconazole Nitrate 2 % Powder Sig: One (1) Appl Topical  BID\n",
       "(2 times a day) as needed.\n",
       "2. Heparin Sodium (Porcine) 5,000 unit/mL Solution Sig: One (1)\n",
       "Injection TID (3 times a day).\n",
       "3. Acetaminophen 160 mg/5 mL Elixir Sig: One (1)  PO Q4-6H\n",
       "(every 4 to 6 hours) as needed.\n",
       "\n",
       "Discharge Diagnosis:\n",
       "Type 2 DM\n",
       "Pancreatitis\n",
       "HTN\n",
       "h/o aspiration respiratory distress\n",
       "\n",
       "\n",
       "Discharge Instructions:\n",
       "Patient may shower. Please call your surgeon or return to the\n",
       "emergency room if  experience fever >101.5, nausea, vomiting,\n",
       "abdominal pain, shortness of breath, abdominal pain or any\n",
       "significant  change in your medical condition. A\n",
       "\n",
       "Completed by:   MD  01-01-2010 @ 1404\n",
       "Signed electronically by: DR.  \n",
       " on: FRI 01-01-2010 8:03 AM\n",
       "(End of Report)"
      ]
     },
     "execution_count": 32,
     "metadata": {},
     "output_type": "execute_result"
    }
   ],
   "source": [
    "preprocessed_doc"
   ]
  },
  {
   "cell_type": "markdown",
   "metadata": {},
   "source": [
    "# Postprocessing\n",
    "The final component we'll introduce is the `postprocessor`. The postprocessor iterates through each entity and checks a series of conditions on each. If all conditions evaluate as `True`, then some action is taken on the entity. Some use cases of this include removing an entity or changing an attributes.\n",
    "\n",
    "For example, let's say that we want to exclude any entity which comes from the **\"patient_instructions\"** section, as these are typically not experienced by the patient and are purely hypothetical. We'll write a rule to remove any entity from `doc.ents` if it came from this section. \n",
    "\n",
    "The design pattern for a postprocessing rule is as follows:\n",
    "- A `PostprocessingRule` contains a list of `patterns` and an `action` to take if all if the conditions are met.\n",
    "- Each `PostprocessingPattern` takes a `condition`, which is evaluated against `success_value`.\n",
    "- Each pattern can take option `condition_args` to pass into the condition check, and each rule takes optional `action_args`\n",
    "- The module `postprocessing_functions` offer utility functions for the `condition` and `description` arguments"
   ]
  },
  {
   "cell_type": "code",
   "execution_count": 33,
   "metadata": {},
   "outputs": [],
   "source": [
    "from medspacy.postprocess import Postprocessor, PostprocessingRule, PostprocessingPattern\n",
    "from medspacy.postprocess import postprocessing_functions"
   ]
  },
  {
   "cell_type": "code",
   "execution_count": 34,
   "metadata": {},
   "outputs": [],
   "source": [
    "postprocessor = Postprocessor(nlp, debug=False) # Set to True for more verbose information about rule matching"
   ]
  },
  {
   "cell_type": "code",
   "execution_count": 35,
   "metadata": {},
   "outputs": [],
   "source": [
    "postprocessor = nlp.add_pipe(\"medspacy_postprocessor\")"
   ]
  },
  {
   "cell_type": "code",
   "execution_count": 36,
   "metadata": {},
   "outputs": [],
   "source": [
    "postprocess_rules = [\n",
    "    # Instantiate our rule\n",
    "    PostprocessingRule(\n",
    "        # Pass in a list of patterns\n",
    "        patterns=[\n",
    "            # The pattern will check if the entitie's section is \"patient_instructions\"\n",
    "            PostprocessingPattern(condition=lambda ent: ent._.section_category, success_value=\"patient_instructions\"),\n",
    "        ],\n",
    "        # If all patterns are True, this entity will be removed.\n",
    "        action=postprocessing_functions.remove_ent,\n",
    "        description=\"Remove any entities from the instructions section.\"\n",
    "    ),\n",
    "    \n",
    "]"
   ]
  },
  {
   "cell_type": "markdown",
   "metadata": {},
   "source": [
    "Before adding the postprocessingrules, here are the final 5 entities:"
   ]
  },
  {
   "cell_type": "code",
   "execution_count": 37,
   "metadata": {},
   "outputs": [
    {
     "name": "stdout",
     "output_type": "stream",
     "text": [
      "Before:\n",
      "\n",
      "Hydrochlorothiazide  |  Allergies:\n",
      "Abdominal pain  |  Chief Complaint:\n",
      "stroke  |  History of Present Illness:\n",
      "abdominal pain  |  History of Present Illness:\n",
      "metastasis  |  History of Present Illness:\n",
      "Colon cancer  |  Past Medical History:\n",
      "hemicolectomy  |  Past Medical History:\n",
      "XRT  |  Past Medical History:\n",
      "stroke  |  Family History:\n",
      "abdominal pain  |  Discharge Instructions:\n",
      "abdominal pain  |  Discharge Instructions:\n"
     ]
    }
   ],
   "source": [
    "print(\"Before:\")\n",
    "print()\n",
    "for ent in doc.ents:\n",
    "    print(ent, ent._.section_title, sep=\"  |  \")"
   ]
  },
  {
   "cell_type": "code",
   "execution_count": 38,
   "metadata": {},
   "outputs": [],
   "source": [
    "postprocessor.add(postprocess_rules)"
   ]
  },
  {
   "cell_type": "code",
   "execution_count": 39,
   "metadata": {},
   "outputs": [],
   "source": [
    "doc = nlp(text)"
   ]
  },
  {
   "cell_type": "markdown",
   "metadata": {},
   "source": [
    "Afterwards, the entities in the `patient_instructions` section was removed."
   ]
  },
  {
   "cell_type": "code",
   "execution_count": 40,
   "metadata": {},
   "outputs": [
    {
     "name": "stdout",
     "output_type": "stream",
     "text": [
      "After:\n",
      "\n",
      "Hydrochlorothiazide  |  Allergies:\n",
      "Abdominal pain  |  Chief Complaint:\n",
      "stroke  |  History of Present Illness:\n",
      "abdominal pain  |  History of Present Illness:\n",
      "metastasis  |  History of Present Illness:\n",
      "Colon cancer  |  Past Medical History:\n",
      "hemicolectomy  |  Past Medical History:\n",
      "XRT  |  Past Medical History:\n",
      "stroke  |  Family History:\n"
     ]
    }
   ],
   "source": [
    "print(\"After:\")\n",
    "print()\n",
    "for ent in doc.ents:\n",
    "    print(ent, ent._.section_title, sep=\"  |  \")"
   ]
  }
 ],
 "metadata": {
  "kernelspec": {
   "display_name": "Python 3 (ipykernel)",
   "language": "python",
   "name": "python3"
  },
  "language_info": {
   "codemirror_mode": {
    "name": "ipython",
    "version": 3
   },
   "file_extension": ".py",
   "mimetype": "text/x-python",
   "name": "python",
   "nbconvert_exporter": "python",
   "pygments_lexer": "ipython3",
   "version": "3.9.12"
  }
 },
 "nbformat": 4,
 "nbformat_minor": 4
}
