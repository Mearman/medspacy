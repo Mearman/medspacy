{
 "cells": [
  {
   "cell_type": "code",
   "execution_count": 1,
   "id": "5dd2f1f9-e090-4321-84a4-fd26deaabe4f",
   "metadata": {},
   "outputs": [],
   "source": [
    "import sys\n",
    "sys.path.insert(0, \"..\")\n",
    "\n",
    "with open(\"./discharge_summary.txt\") as f:\n",
    "    text = f.read()"
   ]
  },
  {
   "cell_type": "code",
   "execution_count": 2,
   "id": "be100366-5dcf-44e9-a458-bb3f7443794f",
   "metadata": {},
   "outputs": [],
   "source": [
    "import spacy\n",
    "import medspacy"
   ]
  },
  {
   "cell_type": "markdown",
   "id": "2a3897eb-6550-49c3-93fd-9b341debf705",
   "metadata": {},
   "source": [
    "# Overview"
   ]
  },
  {
   "cell_type": "markdown",
   "id": "23ec23a0-1387-4b54-ad3b-8cf6dddcbdd8",
   "metadata": {},
   "source": [
    "MedspaCy now supports using spaCy SpanGroups in most of its components. SpanGroups are a new addition to spaCy that allow grouping arbitrary (including overlapping!) spans.\n",
    "This notebook will go over the way to write and manipulate results in a SpanGroup.\n",
    "\n",
    "By default, medspaCy does not write into span groups and instead continues to use `doc.ents` for all output.\n",
    "\n",
    "**NOTE:** spaCy's SpanGroups are a relatively new feature and do not currently have `displacy` support, which powers our visualizations. `visualize_ent` and `visualize_dep` do not work on span groups at this time"
   ]
  },
  {
   "cell_type": "markdown",
   "id": "380c6e78-f9f6-45ad-b9f9-a353da29857e",
   "metadata": {
    "tags": []
   },
   "source": [
    "## TargetMatcher"
   ]
  },
  {
   "cell_type": "code",
   "execution_count": 3,
   "id": "0ca6f5f6-0bf7-4a45-aee7-c22a3ebd0355",
   "metadata": {},
   "outputs": [],
   "source": [
    "from medspacy.ner import TargetRule"
   ]
  },
  {
   "cell_type": "code",
   "execution_count": 4,
   "id": "f4d16770-ea7f-4c0f-8249-7048fefb6261",
   "metadata": {},
   "outputs": [],
   "source": [
    "target_rules = [\n",
    "    TargetRule(literal=\"abdominal pain\", category=\"PROBLEM\"),\n",
    "    TargetRule(\"stroke\", \"PROBLEM\"),\n",
    "    TargetRule(\"hemicolectomy\", \"TREATMENT\"),\n",
    "    TargetRule(\"Hydrochlorothiazide\", \"TREATMENT\"),\n",
    "    TargetRule(\"colon cancer\", \"PROBLEM\"),\n",
    "    TargetRule(\"metastasis\", \"PROBLEM\"),\n",
    "    \n",
    "]"
   ]
  },
  {
   "cell_type": "code",
   "execution_count": 5,
   "id": "15f57d70-df8e-44d3-ac3c-dfb8ddeaf5dc",
   "metadata": {},
   "outputs": [],
   "source": [
    "nlp = spacy.blank(\"en\")"
   ]
  },
  {
   "cell_type": "code",
   "execution_count": 6,
   "id": "076a1bcf-909b-4132-bd0f-41b87e6773e1",
   "metadata": {},
   "outputs": [],
   "source": [
    "matcher = nlp.add_pipe(\"medspacy_target_matcher\")"
   ]
  },
  {
   "cell_type": "code",
   "execution_count": 7,
   "id": "21967076-e1ec-4b21-b04a-ade5db9b45ad",
   "metadata": {},
   "outputs": [],
   "source": [
    "matcher.add(target_rules)"
   ]
  },
  {
   "cell_type": "code",
   "execution_count": 8,
   "id": "b399304a-8830-46e0-a954-d7bfe4e25017",
   "metadata": {},
   "outputs": [],
   "source": [
    "doc = nlp(text)"
   ]
  },
  {
   "cell_type": "code",
   "execution_count": 9,
   "id": "9082a712-12f5-4d91-8cba-cedd2c35f5a5",
   "metadata": {},
   "outputs": [
    {
     "data": {
      "text/plain": [
       "(Hydrochlorothiazide,\n",
       " Abdominal pain,\n",
       " stroke,\n",
       " abdominal pain,\n",
       " metastasis,\n",
       " Colon cancer,\n",
       " hemicolectomy,\n",
       " stroke,\n",
       " abdominal pain,\n",
       " abdominal pain)"
      ]
     },
     "execution_count": 9,
     "metadata": {},
     "output_type": "execute_result"
    }
   ],
   "source": [
    "doc.ents"
   ]
  },
  {
   "cell_type": "markdown",
   "id": "d88bf71c-fe62-4949-9026-458ec59f3f42",
   "metadata": {},
   "source": [
    "However, this is because the optional parameter `result_type` has a default value of `ents`. Initializing the `TargetMatcher` with the parameter `result_type=\"group\"` places all the resulting spans in a span group. By default, the span group is named `medspacy_spans`, but this can also be overridden by sending in the parameter `span_group_name=\"other_name\"`"
   ]
  },
  {
   "cell_type": "code",
   "execution_count": 10,
   "id": "d5c1b8be-153c-46ee-8b01-39c1584e36e0",
   "metadata": {},
   "outputs": [],
   "source": [
    "nlp = spacy.blank(\"en\")"
   ]
  },
  {
   "cell_type": "code",
   "execution_count": 11,
   "id": "99129f22-3907-4e0f-9076-4b9416719f5e",
   "metadata": {},
   "outputs": [],
   "source": [
    "matcher = nlp.add_pipe(\"medspacy_target_matcher\", config={\"result_type\":\"group\"})"
   ]
  },
  {
   "cell_type": "code",
   "execution_count": 12,
   "id": "816d3fdb-f052-4a2a-b309-26ffd65f74ae",
   "metadata": {},
   "outputs": [],
   "source": [
    "matcher.add(target_rules)"
   ]
  },
  {
   "cell_type": "code",
   "execution_count": 13,
   "id": "9b45a2ea-bcdf-4b3a-8628-8f3de121b48c",
   "metadata": {},
   "outputs": [],
   "source": [
    "doc = nlp(text)"
   ]
  },
  {
   "cell_type": "code",
   "execution_count": 14,
   "id": "c903ab1f-a249-4e3e-9486-8282acf9cefb",
   "metadata": {},
   "outputs": [
    {
     "data": {
      "text/plain": [
       "()"
      ]
     },
     "execution_count": 14,
     "metadata": {},
     "output_type": "execute_result"
    }
   ],
   "source": [
    "doc.ents"
   ]
  },
  {
   "cell_type": "code",
   "execution_count": 15,
   "id": "4036493d-2daa-4dec-9e8e-3b792eb4f2a9",
   "metadata": {},
   "outputs": [
    {
     "data": {
      "text/plain": [
       "[Hydrochlorothiazide, Abdominal pain, stroke, abdominal pain, metastasis, Colon cancer, hemicolectomy, stroke, abdominal pain, abdominal pain]"
      ]
     },
     "execution_count": 15,
     "metadata": {},
     "output_type": "execute_result"
    }
   ],
   "source": [
    "doc.spans[\"medspacy_spans\"]"
   ]
  },
  {
   "cell_type": "markdown",
   "id": "ed1eadcc-87b2-4758-a069-7d5f9e49e62e",
   "metadata": {},
   "source": [
    "## QuickUMLS"
   ]
  },
  {
   "cell_type": "code",
   "execution_count": 16,
   "id": "908611ed-e7ee-4f04-babe-77ee1b4a239a",
   "metadata": {},
   "outputs": [],
   "source": [
    "# TODO: add quickumls span group intro"
   ]
  },
  {
   "cell_type": "markdown",
   "id": "80d06553-ee36-4c89-b725-e7d53b867b05",
   "metadata": {},
   "source": [
    "## ConText"
   ]
  },
  {
   "cell_type": "markdown",
   "id": "57f7f696-8dcc-499f-b226-a2a91ecda1d7",
   "metadata": {},
   "source": [
    "`ConText` does not produce entities by itself, and therefore does not need to place results in a SpanGroup. However, it needs to be aware of where entities from some other sources, such as the `TargetMatcher` or `QuickUMLS` are located in order to be able to modify them correctly."
   ]
  },
  {
   "cell_type": "code",
   "execution_count": 17,
   "id": "02a15f4b-2a88-47c5-9ca8-ea6b136429e9",
   "metadata": {},
   "outputs": [],
   "source": [
    "nlp = spacy.blank(\"en\")\n",
    "nlp.add_pipe(\"medspacy_pyrush\")\n",
    "matcher = nlp.add_pipe(\"medspacy_target_matcher\", config={\"result_type\": \"group\"})\n",
    "matcher.add(target_rules)"
   ]
  },
  {
   "cell_type": "code",
   "execution_count": 18,
   "id": "a4309a18-29d3-4ef7-8829-76698c2492b5",
   "metadata": {},
   "outputs": [],
   "source": [
    "context = nlp.add_pipe(\"medspacy_context\", config={\"input_span_type\": \"group\"})"
   ]
  },
  {
   "cell_type": "code",
   "execution_count": 19,
   "id": "58f12f5f-f15d-45f9-8e68-de8625ddf725",
   "metadata": {},
   "outputs": [],
   "source": [
    "doc = nlp(text)"
   ]
  },
  {
   "cell_type": "code",
   "execution_count": 20,
   "id": "66ce9e96-ff37-484d-980c-17ef0d0ab80f",
   "metadata": {},
   "outputs": [
    {
     "data": {
      "text/plain": [
       "[Hydrochlorothiazide, Abdominal pain, stroke, abdominal pain, metastasis, Colon cancer, hemicolectomy, stroke, abdominal pain, abdominal pain]"
      ]
     },
     "execution_count": 20,
     "metadata": {},
     "output_type": "execute_result"
    }
   ],
   "source": [
    "doc.spans[\"medspacy_spans\"]"
   ]
  },
  {
   "cell_type": "markdown",
   "id": "90e1b4f4-9641-418f-a6db-b46d3750c3f4",
   "metadata": {},
   "source": [
    "If we iterate over the spans in this group and see which ones are negated, along with a few words in a window, we can see that ConText is correctly altering attributes in the SpanGroup."
   ]
  },
  {
   "cell_type": "code",
   "execution_count": 21,
   "id": "492b57bc-5be1-489f-a4b4-9e4fe7190a81",
   "metadata": {},
   "outputs": [
    {
     "name": "stdout",
     "output_type": "stream",
     "text": [
      "Hydrochlorothiazide  |  False  |  Allergies:\n",
      "Hydrochlorothiazide\n",
      "\n",
      "Attending:[**First Name3\n",
      "\n",
      "Abdominal pain  |  False  |  Complaint:\n",
      "Abdominal pain\n",
      "\n",
      "Major Surgical\n",
      "\n",
      "stroke  |  False  |  and a recent stroke affecting her\n",
      "\n",
      "\n",
      "abdominal pain  |  False  |  2 days of abdominal pain. Imaging shows\n",
      "\n",
      "metastasis  |  True  |  no evidence of metastasis. She is\n",
      "\n",
      "Colon cancer  |  False  |  \n",
      "1. Colon cancer dx'd in [\n",
      "\n",
      "hemicolectomy  |  False  |  , tx'd with hemicolectomy, XRT,\n",
      "\n",
      "stroke  |  False  |  \n",
      "Mother with stroke at age 82\n",
      "\n",
      "abdominal pain  |  False  |  vomiting,\n",
      "abdominal pain, shortness of\n",
      "\n",
      "abdominal pain  |  False  |  of breath, abdominal pain or any\n",
      "\n",
      "\n"
     ]
    }
   ],
   "source": [
    "for span in doc.spans[\"medspacy_spans\"]:\n",
    "    print(span, span._.is_negated, span._.window(3), sep=\"  |  \")\n",
    "    print()"
   ]
  },
  {
   "cell_type": "markdown",
   "id": "3d8f9d88-0334-4b4d-8176-8893d7a9411a",
   "metadata": {},
   "source": [
    "## Sectionizer"
   ]
  },
  {
   "cell_type": "markdown",
   "id": "25974558-e83a-440b-b6d1-b9f54e39a8b8",
   "metadata": {},
   "source": [
    "Like context, the sectionizer component does not produce entities that get placed in SpanGroups. If you want the sectionizer to modify attributes of existing entitites, though, it is capable of reading in spans from the specified group."
   ]
  },
  {
   "cell_type": "code",
   "execution_count": 22,
   "id": "9ba78422-d3ee-4693-824f-c7882d5c430b",
   "metadata": {},
   "outputs": [],
   "source": [
    "nlp = spacy.blank(\"en\")\n",
    "nlp.add_pipe(\"medspacy_pyrush\")\n",
    "matcher = nlp.add_pipe(\"medspacy_target_matcher\", config={\"result_type\": \"group\"})\n",
    "matcher.add(target_rules)"
   ]
  },
  {
   "cell_type": "code",
   "execution_count": 23,
   "id": "b7a46407-62af-4f4b-898a-c545fc9b73ce",
   "metadata": {},
   "outputs": [],
   "source": [
    "context = nlp.add_pipe(\"medspacy_sectionizer\", config={\"input_span_type\": \"group\"})"
   ]
  },
  {
   "cell_type": "code",
   "execution_count": 24,
   "id": "216e8aef-d0a4-47b9-881c-b469100e9b59",
   "metadata": {},
   "outputs": [],
   "source": [
    "doc = nlp(text)"
   ]
  },
  {
   "cell_type": "markdown",
   "id": "26a0eaaf-4ee9-4012-9444-fa7864ab0b6b",
   "metadata": {},
   "source": [
    "Iterating over the entities predicted shows that the sectionizer correctly modifies `stroke` in the `family_history` section, even though `stroke` was placed in the SpanGroup rather than `doc.ents`."
   ]
  },
  {
   "cell_type": "code",
   "execution_count": 25,
   "id": "4dd6a3ad-2e58-4a10-abbb-173615a47cb4",
   "metadata": {},
   "outputs": [
    {
     "name": "stdout",
     "output_type": "stream",
     "text": [
      "Hydrochlorothiazide  |  False  |  allergy\n",
      "\n",
      "Abdominal pain  |  False  |  chief_complaint\n",
      "\n",
      "stroke  |  False  |  history_of_present_illness\n",
      "\n",
      "abdominal pain  |  False  |  history_of_present_illness\n",
      "\n",
      "metastasis  |  False  |  history_of_present_illness\n",
      "\n",
      "Colon cancer  |  False  |  past_medical_history\n",
      "\n",
      "hemicolectomy  |  False  |  past_medical_history\n",
      "\n",
      "stroke  |  True  |  family_history\n",
      "\n",
      "abdominal pain  |  False  |  patient_instructions\n",
      "\n",
      "abdominal pain  |  False  |  patient_instructions\n",
      "\n"
     ]
    }
   ],
   "source": [
    "for span in doc.spans[\"medspacy_spans\"]:\n",
    "    print(span, span._.is_family, span._.section_category, sep=\"  |  \")\n",
    "    print()"
   ]
  },
  {
   "cell_type": "markdown",
   "id": "8198b795-1382-4c11-aeb2-30ab5d447853",
   "metadata": {},
   "source": [
    "# Postprocessor"
   ]
  },
  {
   "cell_type": "markdown",
   "id": "1eaf4792-a699-41f8-85f4-791c635ea132",
   "metadata": {},
   "source": [
    "The preprocessor can also operate on SpanGroups."
   ]
  },
  {
   "cell_type": "code",
   "execution_count": 26,
   "id": "61aec3a8-ff96-4630-9ec2-2bed7cf960f7",
   "metadata": {},
   "outputs": [],
   "source": [
    "from medspacy.postprocess import Postprocessor, PostprocessingRule, PostprocessingPattern\n",
    "from medspacy.postprocess import postprocessing_functions"
   ]
  },
  {
   "cell_type": "code",
   "execution_count": 27,
   "id": "34ac2f71-1bdf-4296-9360-d6bd5669a799",
   "metadata": {},
   "outputs": [],
   "source": [
    "postprocessor = nlp.add_pipe(\"medspacy_postprocessor\", config={\"input_span_type\":\"group\"})"
   ]
  },
  {
   "cell_type": "code",
   "execution_count": 28,
   "id": "9db647e3-d188-476f-af71-188ba999ea65",
   "metadata": {},
   "outputs": [],
   "source": [
    "postprocess_rules = [\n",
    "    # Instantiate our rule\n",
    "    PostprocessingRule(\n",
    "        # Pass in a list of patterns\n",
    "        patterns=[\n",
    "            # The pattern will check if the entitie's section is \"patient_instructions\"\n",
    "            PostprocessingPattern(condition=lambda ent: ent._.section_category, success_value=\"patient_instructions\"),\n",
    "        ],\n",
    "        # If all patterns are True, this entity will be removed.\n",
    "        action=postprocessing_functions.remove_ent,\n",
    "        description=\"Remove any entities from the instructions section.\",\n",
    "    ),\n",
    "    \n",
    "]"
   ]
  },
  {
   "cell_type": "code",
   "execution_count": 29,
   "id": "a65112fa-ddae-4444-a84d-a6fb72ae1757",
   "metadata": {},
   "outputs": [],
   "source": [
    "postprocessor.add(postprocess_rules)"
   ]
  },
  {
   "cell_type": "code",
   "execution_count": 30,
   "id": "ab87812c-4011-4768-ba9e-6b8df8211185",
   "metadata": {
    "tags": []
   },
   "outputs": [],
   "source": [
    "doc = nlp(text)"
   ]
  },
  {
   "cell_type": "code",
   "execution_count": 31,
   "id": "45eb3643-d946-4a56-a344-9c4a7e2559b5",
   "metadata": {},
   "outputs": [
    {
     "name": "stdout",
     "output_type": "stream",
     "text": [
      "Hydrochlorothiazide  |  allergy\n",
      "\n",
      "Abdominal pain  |  chief_complaint\n",
      "\n",
      "stroke  |  history_of_present_illness\n",
      "\n",
      "abdominal pain  |  history_of_present_illness\n",
      "\n",
      "metastasis  |  history_of_present_illness\n",
      "\n",
      "Colon cancer  |  past_medical_history\n",
      "\n",
      "hemicolectomy  |  past_medical_history\n",
      "\n",
      "stroke  |  family_history\n",
      "\n"
     ]
    }
   ],
   "source": [
    "for span in doc.spans[\"medspacy_spans\"]:\n",
    "    print(span, span._.section_category, sep=\"  |  \")\n",
    "    print()"
   ]
  }
 ],
 "metadata": {
  "kernelspec": {
   "display_name": "Python 3 (ipykernel)",
   "language": "python",
   "name": "python3"
  },
  "language_info": {
   "codemirror_mode": {
    "name": "ipython",
    "version": 3
   },
   "file_extension": ".py",
   "mimetype": "text/x-python",
   "name": "python",
   "nbconvert_exporter": "python",
   "pygments_lexer": "ipython3",
   "version": "3.9.12"
  }
 },
 "nbformat": 4,
 "nbformat_minor": 5
}
