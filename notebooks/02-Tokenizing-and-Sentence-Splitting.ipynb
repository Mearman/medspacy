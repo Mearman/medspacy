{
 "cells": [
  {
   "cell_type": "code",
   "execution_count": 1,
   "metadata": {},
   "outputs": [],
   "source": [
    "import sys\n",
    "sys.path.insert(0, \"..\")"
   ]
  },
  {
   "cell_type": "code",
   "execution_count": 2,
   "metadata": {},
   "outputs": [],
   "source": [
    "import spacy\n",
    "import medspacy"
   ]
  },
  {
   "cell_type": "markdown",
   "metadata": {},
   "source": [
    "# Overview\n",
    "In this notebook, we'll look at two of the first steps commonly performed on clinical text and see how medSpaCy handles them:\n",
    "- Tokenization\n",
    "- Sentence splitting"
   ]
  },
  {
   "cell_type": "code",
   "execution_count": 3,
   "metadata": {},
   "outputs": [],
   "source": [
    "with open(\"./discharge_summary.txt\") as f:\n",
    "    text = f.read()"
   ]
  },
  {
   "cell_type": "code",
   "execution_count": 4,
   "metadata": {},
   "outputs": [],
   "source": [
    "# Use a blank model rather than the full medspaCy pipeline\n",
    "nlp = spacy.blank(\"en\")"
   ]
  },
  {
   "cell_type": "markdown",
   "metadata": {},
   "source": [
    "# Tokenization\n",
    "Clinical language is very different from general natural language. Abbreviations and punctuation in particularly are used irregularly and tokenizers trained on general English sources like Wikipedia perform poorly on clinical text.\n",
    "\n",
    "To address this, medSpaCy adds a more aggressive tokenizer with rules specifically meant to handle clinical text. This is loaded by default with the `medspacy.load()` function, but can also be created using this utility function:"
   ]
  },
  {
   "cell_type": "code",
   "execution_count": 5,
   "metadata": {},
   "outputs": [],
   "source": [
    "from medspacy.custom_tokenizer import create_medspacy_tokenizer"
   ]
  },
  {
   "cell_type": "code",
   "execution_count": 6,
   "metadata": {},
   "outputs": [],
   "source": [
    "medspacy_tokenizer = create_medspacy_tokenizer(nlp)\n",
    "default_tokenizer = nlp.tokenizer"
   ]
  },
  {
   "cell_type": "code",
   "execution_count": 7,
   "metadata": {},
   "outputs": [],
   "source": [
    "example_text = r'Pt c\\o n;v;d h\\o chf+cp'"
   ]
  },
  {
   "cell_type": "code",
   "execution_count": 8,
   "metadata": {},
   "outputs": [
    {
     "name": "stdout",
     "output_type": "stream",
     "text": [
      "Tokens from default tokenizer:\n",
      "[Pt, c\\o, n;v;d, h\\o, chf+cp]\n",
      "\n",
      "Tokens from medspacy tokenizer:\n",
      "[Pt, c, \\, o, n, ;, v, ;, d, h, \\, o, chf, +, cp]\n"
     ]
    }
   ],
   "source": [
    "print(\"Tokens from default tokenizer:\")\n",
    "print(list(default_tokenizer(example_text)))\n",
    "print()\n",
    "print(\"Tokens from medspacy tokenizer:\")\n",
    "print(list(medspacy_tokenizer(example_text)))"
   ]
  },
  {
   "cell_type": "markdown",
   "metadata": {},
   "source": [
    "Now we'll add our custom tokenizer to our pipeline by replacing the default:"
   ]
  },
  {
   "cell_type": "code",
   "execution_count": 9,
   "metadata": {},
   "outputs": [],
   "source": [
    "nlp.tokenizer = medspacy_tokenizer"
   ]
  },
  {
   "cell_type": "code",
   "execution_count": 10,
   "metadata": {},
   "outputs": [
    {
     "name": "stdout",
     "output_type": "stream",
     "text": [
      "[Pt, c, \\, o, n, ;, v, ;, d, h, \\, o, chf, +, cp]\n"
     ]
    }
   ],
   "source": [
    "print(list(nlp(example_text)))"
   ]
  },
  {
   "cell_type": "markdown",
   "metadata": {},
   "source": [
    "# Sentence segmentation\n",
    "Sentence segmentation in medSpaCy is performed in one of several ways: \n",
    "* Through the standard part-of-speech tagger `tagger` and dependency parser `parser` implemented by default in a spaCy [model](https://spacy.io/models), such as the `en_core_web_sm` model. This is not designed for clinical text and the dependency parsing algorithm can be both unnecessary and slow down your pipeline.\n",
    "* Through the `sentencizer` component as part of a spaCy model that is not enabled by default. This speeds up the pipeline by allowing the removal of the `tagger` and `parser` components, but is still not trained on clinical text.\n",
    "* Using [PyRuSH](https://github.com/jianlins/PyRuSH). This is a rule based sentence splitter designed for clinical text. \n",
    "\n",
    "\n",
    "PyRuSH rules are defined by a resources file. PyRuSH is included by default in `medspacy.load()` but, like all other medspaCy components, can be added to a spaCy pipeline individually."
   ]
  },
  {
   "cell_type": "markdown",
   "metadata": {},
   "source": [
    "## PyRuSH"
   ]
  },
  {
   "cell_type": "code",
   "execution_count": 11,
   "metadata": {},
   "outputs": [],
   "source": [
    "from medspacy.sentence_splitting import PyRuSHSentencizer"
   ]
  },
  {
   "cell_type": "code",
   "execution_count": 12,
   "metadata": {},
   "outputs": [],
   "source": [
    "# For new version of sentencizer in PyRuSH, it is embedded in pipline\n",
    "#sentencizer = PyRuSHSentencizer(rules_path=\"../resources/rush_rules.tsv\")\n",
    "#sentencizer"
   ]
  },
  {
   "cell_type": "code",
   "execution_count": 13,
   "metadata": {},
   "outputs": [
    {
     "data": {
      "text/plain": [
       "<PyRuSH.PyRuSHSentencizer.PyRuSHSentencizer at 0x7f87f2984d80>"
      ]
     },
     "execution_count": 13,
     "metadata": {},
     "output_type": "execute_result"
    }
   ],
   "source": [
    "nlp.add_pipe(\"medspacy_pyrush\") #, config={\"pyrush_path\": \"../resources/rush_rules.tsv\"})"
   ]
  },
  {
   "cell_type": "code",
   "execution_count": 14,
   "metadata": {},
   "outputs": [
    {
     "data": {
      "text/plain": [
       "['medspacy_pyrush']"
      ]
     },
     "execution_count": 14,
     "metadata": {},
     "output_type": "execute_result"
    }
   ],
   "source": [
    "nlp.pipe_names"
   ]
  },
  {
   "cell_type": "code",
   "execution_count": 15,
   "metadata": {},
   "outputs": [],
   "source": [
    "doc = nlp(text)"
   ]
  },
  {
   "cell_type": "code",
   "execution_count": 16,
   "metadata": {},
   "outputs": [
    {
     "name": "stdout",
     "output_type": "stream",
     "text": [
      "Admission Date:  [**2573-5-30**]              \n",
      "------------------------------\n",
      "Discharge Date:   [**2573-7-1**]\n",
      "\n",
      "\n",
      "------------------------------\n",
      "Date of Birth:  [**2498-8-19**]             \n",
      "------------------------------\n",
      "Sex:   F\n",
      "\n",
      "\n",
      "------------------------------\n",
      "Service: SURGERY\n",
      "\n",
      "\n",
      "------------------------------\n",
      "Allergies:\n",
      "\n",
      "------------------------------\n",
      "Hydrochlorothiazide\n",
      "\n",
      "\n",
      "------------------------------\n",
      "Attending:[**First Name3 (LF) 1893**]\n",
      "\n",
      "------------------------------\n",
      "Chief Complaint:\n",
      "\n",
      "------------------------------\n",
      "Abdominal pain\n",
      "\n",
      "\n",
      "------------------------------\n",
      "Major Surgical or Invasive Procedure:\n",
      "\n",
      "------------------------------\n",
      "PICC line [**6-25**]\n",
      "\n",
      "------------------------------\n",
      "ERCP w/ sphincterotomy [**5-31**]\n",
      "\n",
      "\n",
      "\n",
      "------------------------------\n",
      "History of Present Illness:\n",
      "\n",
      "------------------------------\n",
      "74y female with type 2 dm and a recent stroke affecting her\n",
      "speech, who presents with 2 days of abdominal pain.\n",
      "------------------------------\n",
      "Imaging shows no evidence of metastasis.\n",
      "------------------------------\n",
      "She is not receiving any chemo.\n",
      "\n",
      "\n",
      "------------------------------\n",
      "Past Medical History:\n",
      "\n",
      "------------------------------\n",
      "1. Colon cancer dx'd in [**2554**], tx'd with hemicolectomy, XRT,\n",
      "chemo.\n",
      "------------------------------\n",
      "Last colonoscopy showed: Last CEA was in the 8 range\n",
      "(down from 9)\n",
      "\n",
      "------------------------------\n",
      "2. Type II Diabetes Mellitus\n",
      "\n",
      "------------------------------\n",
      "3. Hypertension\n",
      "\n",
      "\n",
      "------------------------------\n",
      "Social History:\n",
      "\n",
      "------------------------------\n",
      "Married, former tobacco use.\n",
      "------------------------------\n",
      "No alcohol or drug use.\n",
      "\n",
      "\n",
      "------------------------------\n",
      "Family History:\n",
      "\n",
      "------------------------------\n",
      "Mother with stroke at age 82. no early deaths.\n",
      "\n",
      "------------------------------\n",
      "2 daughters- healthy\n",
      "\n",
      "\n",
      "\n",
      "------------------------------\n",
      "Brief Hospital Course:\n",
      "\n",
      "------------------------------\n",
      "Ms. [**Known patient lastname 2004**] was admitted on [**2573-5-30**]. Ultrasound at the time of\n",
      "admission demonstrated pancreatic duct dilitation and an\n",
      "edematous gallbladder.\n",
      "------------------------------\n",
      "She was admitted to the ICU.\n",
      "\n",
      "------------------------------\n",
      "Discharge Medications:\n",
      "\n",
      "------------------------------\n",
      "1. Miconazole Nitrate 2 % Powder\n",
      "------------------------------\n",
      "Sig: One (1) Appl Topical  BID\n",
      "(2 times a day) as needed.\n",
      "\n",
      "------------------------------\n",
      "2. Heparin Sodium (Porcine) 5,000 unit/mL Solution\n",
      "------------------------------\n",
      "Sig: One (1)\n",
      "Injection TID (3 times a day).\n",
      "\n",
      "------------------------------\n",
      "3. Acetaminophen 160 mg/5 mL Elixir\n",
      "------------------------------\n",
      "Sig: One (1)  PO Q4-6H\n",
      "(every 4 to 6 hours) as needed.\n",
      "\n",
      "\n",
      "------------------------------\n",
      "Discharge Diagnosis:\n",
      "\n",
      "------------------------------\n",
      "Type 2 DM\n",
      "Pancreatitis\n",
      "\n",
      "------------------------------\n",
      "HTN\n",
      "h/o aspiration respiratory distress\n",
      "\n",
      "\n",
      "\n",
      "------------------------------\n",
      "Discharge Instructions:\n",
      "\n",
      "------------------------------\n",
      "Patient may shower.\n",
      "------------------------------\n",
      "Please call your surgeon or return to the\n",
      "emergency room if [**Doctor First Name **] experience fever >101.5, nausea, vomiting,\n",
      "abdominal pain, shortness of breath, abdominal pain or any\n",
      "significant  change in your medical condition.\n",
      "------------------------------\n",
      "A\n",
      "\n",
      "\n",
      "------------------------------\n",
      "Completed by: [**First Name11 (Name Pattern1) 2010**] [**Last Name (NamePattern1) 2011**] MD [**MD Number 2012**] [**2573-7-1**] @ 1404\n",
      "\n",
      "------------------------------\n",
      "Signed electronically by: DR. [**First Name8 (NamePattern2) **] [**Last Name (NamePattern1) **]\n",
      " on: FRI [**2573-7-2**] 8:03 AM\n",
      "\n",
      "------------------------------\n",
      "(End of Report)\n",
      "------------------------------\n"
     ]
    }
   ],
   "source": [
    "for sent in doc.sents:\n",
    "    print(sent)\n",
    "    print(\"---\"*10)"
   ]
  }
 ],
 "metadata": {
  "kernelspec": {
   "display_name": "Python 3 (ipykernel)",
   "language": "python",
   "name": "python3"
  },
  "language_info": {
   "codemirror_mode": {
    "name": "ipython",
    "version": 3
   },
   "file_extension": ".py",
   "mimetype": "text/x-python",
   "name": "python",
   "nbconvert_exporter": "python",
   "pygments_lexer": "ipython3",
   "version": "3.9.12"
  }
 },
 "nbformat": 4,
 "nbformat_minor": 4
}
